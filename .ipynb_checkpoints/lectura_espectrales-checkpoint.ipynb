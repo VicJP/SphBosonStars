{
 "cells": [
  {
   "cell_type": "code",
   "execution_count": 2,
   "metadata": {
    "scrolled": true
   },
   "outputs": [
    {
     "name": "stdout",
     "output_type": "stream",
     "text": [
      "%pylab is deprecated, use %matplotlib inline and import the required libraries.\n",
      "Populating the interactive namespace from numpy and matplotlib\n"
     ]
    }
   ],
   "source": [
    "%pylab inline\n",
    "rc('font',**{'family':'sans-serif','sans-serif':['Latin Modern']})\n",
    "rc('text', usetex=True)"
   ]
  },
  {
   "cell_type": "code",
   "execution_count": null,
   "metadata": {},
   "outputs": [],
   "source": []
  },
  {
   "cell_type": "code",
   "execution_count": 2,
   "metadata": {},
   "outputs": [],
   "source": [
    "N=17\n",
    "archivo=\"/home/landau/Codes/KADATH/Anhui/Kadath/SelfInteractingBS/bin/\"\n",
    "\n",
    "\n",
    "\n",
    "dominios=8\n",
    "r1_b=1.\n",
    "r2_b=2.\n",
    "r3_b=4.\n",
    "r4_b=8.\n",
    "r5_b=16.\n",
    "r6_b=32.\n",
    "r7_b=64.\n"
   ]
  },
  {
   "cell_type": "code",
   "execution_count": 3,
   "metadata": {},
   "outputs": [],
   "source": [
    "def cut_Kadath(func_dat):\n",
    "    YY=zeros((N*dominios,N))\n",
    "    for ll in range(dominios):\n",
    "        YY[N*ll:N*(ll+1),:]=loadtxt(archivo+func_dat, skiprows=4*(ll+1)+(N+1)*ll, max_rows=N, usecols=(arange(N)+2))\n",
    "    return YY\n",
    "\n",
    "def extract_coef(dom,FUNC):    #only for local use\n",
    "    return FUNC[N*dom:N*(dom+1),:]\n",
    "x=linspace(-1,1,N)            ##\n",
    "r0=r1_b*x\n",
    "r1=0.5*(r2_b-r1_b)*x+0.5*(r2_b+r1_b)\n",
    "r2=0.5*(r3_b-r2_b)*x+0.5*(r3_b+r2_b)\n",
    "r3=0.5*(r4_b-r3_b)*x+0.5*(r4_b+r3_b)\n",
    "r4=0.5*(r5_b-r4_b)*x+0.5*(r5_b+r4_b)\n",
    "r5=0.5*(r6_b-r5_b)*x+0.5*(r6_b+r5_b)\n",
    "r6=0.5*(r7_b-r6_b)*x+0.5*(r7_b+r6_b)\n",
    "r7=2*r7_b/(1.-x+1e-9)           ##"
   ]
  },
  {
   "cell_type": "code",
   "execution_count": 4,
   "metadata": {},
   "outputs": [
    {
     "data": {
      "text/plain": [
       "array([[ 5.67662e-01, -2.27223e-01,  2.99855e-02, ..., -2.80078e-11,\n",
       "         4.24641e-12,  4.84612e-14],\n",
       "       [-1.76049e-17,  5.69998e-18,  7.82199e-18, ..., -8.35938e-18,\n",
       "        -4.97360e-18, -4.09401e-19],\n",
       "       [ 6.96672e-18,  6.70152e-18,  5.82624e-18, ...,  1.24831e-18,\n",
       "        -4.84398e-18,  1.45241e-18],\n",
       "       ...,\n",
       "       [-1.15256e-31,  2.26796e-31, -2.15996e-31, ..., -6.40512e-33,\n",
       "         9.36591e-33, -7.56809e-33],\n",
       "       [-8.57743e-32,  1.68809e-31, -1.60845e-31, ..., -4.86271e-33,\n",
       "         7.32123e-33, -5.98225e-33],\n",
       "       [-5.36521e-33,  1.05343e-32, -9.96690e-33, ..., -2.06087e-34,\n",
       "         2.10445e-34, -1.45157e-34]])"
      ]
     },
     "execution_count": 4,
     "metadata": {},
     "output_type": "execute_result"
    }
   ],
   "source": [
    "PHI=cut_Kadath(\"phi.dat\")\n",
    "LAPSE=cut_Kadath(\"lapse.dat\")\n",
    "A=cut_Kadath(\"bigA.dat\")\n",
    "B=cut_Kadath(\"bigB.dat\")\n",
    "W=cut_Kadath(\"W.dat\")\n",
    "\n",
    "PHI"
   ]
  },
  {
   "cell_type": "code",
   "execution_count": 5,
   "metadata": {},
   "outputs": [],
   "source": [
    "def Cheb_serie(coef,xx,yy):  #dos dimensiones\n",
    "    sum_=0\n",
    "    for ii in range(len(coef[:,0])):\n",
    "        for jj in range(len(coef[0,:])):\n",
    "            sum_ += coef[ii,jj] * cos(2*ii * xx) * cos(jj * arccos(yy))\n",
    "    return sum_\n",
    "\n",
    "def Cheb_serie_even(coef,xx,yy):  #dos dimensiones\n",
    "    sum_=0\n",
    "    for ii in range(len(coef[:,0])):\n",
    "        for jj in range(len(coef[0,:])):\n",
    "            sum_ += coef[ii,jj] * cos(2*ii * xx) * cos(2 * jj * arccos(yy))\n",
    "    return sum_\n",
    "\n",
    "def Cheb_serie_odd(coef,xx,yy):  #dos dimensiones\n",
    "    sum_=0\n",
    "    for ii in range(len(coef[:,0])):\n",
    "        for jj in range(len(coef[0,:])):\n",
    "            sum_ += coef[ii,jj] * cos(2*ii * xx) * cos((2 * jj + 1) * arccos(yy))\n",
    "    return sum_\n",
    "\n",
    "\n",
    "def antiCheb_serie(coef,xx,yy):  #dos dimensiones\n",
    "    sum_=0\n",
    "    for ii in range(len(coef[:,0])):\n",
    "        for jj in range(len(coef[0,:])):\n",
    "            sum_ += coef[ii,jj] * cos((2*ii+1) * xx) * cos(jj * arccos(yy))\n",
    "    return sum_\n",
    "\n",
    "def antiCheb_serie_even(coef,xx,yy):  #dos dimensiones\n",
    "    sum_=0\n",
    "    for ii in range(len(coef[:,0])):\n",
    "        for jj in range(len(coef[0,:])):\n",
    "            sum_ += coef[ii,jj] * cos((2*ii+1) * xx) * cos(2 * jj * arccos(yy))\n",
    "    return sum_\n",
    "\n",
    "def antiCheb_serie_odd(coef,xx,yy):  #dos dimensiones\n",
    "    sum_=0\n",
    "    for ii in range(len(coef[:,0])):\n",
    "        for jj in range(len(coef[0,:])):\n",
    "            sum_ += coef[ii,jj] * cos((2*ii+1) * xx) * cos((2 * jj + 1) * arccos(yy))\n",
    "    return sum_\n",
    "\n",
    "\n",
    "def testCheb_serie(coef,xx,yy):  #dos dimensiones\n",
    "    sum_=0\n",
    "    for ii in range(len(coef[:,0])):\n",
    "        for jj in range(len(coef[0,:])):\n",
    "            sum_ += coef[ii,jj] * sin((2*ii+1) * xx) * cos(jj * arccos(yy))\n",
    "    return sum_\n",
    "\n",
    "def testCheb_serie_even(coef,xx,yy):  #dos dimensiones\n",
    "    sum_=0\n",
    "    for ii in range(len(coef[:,0])):\n",
    "        for jj in range(len(coef[0,:])):\n",
    "            sum_ += coef[ii,jj] * sin((2*ii+1) * xx) * cos(2 * jj * arccos(yy))\n",
    "    return sum_\n",
    "\n",
    "def testCheb_serie_odd(coef,xx,yy):  #dos dimensiones\n",
    "    sum_=0\n",
    "    for ii in range(len(coef[:,0])):\n",
    "        for jj in range(len(coef[0,:])):\n",
    "            sum_ += coef[ii,jj] * sin((2*ii+1) * xx) * cos((2 * jj + 1) * arccos(yy))\n",
    "    return sum_"
   ]
  },
  {
   "cell_type": "code",
   "execution_count": 6,
   "metadata": {},
   "outputs": [
    {
     "data": {
      "text/plain": [
       "(0.0, 20.0)"
      ]
     },
     "execution_count": 6,
     "metadata": {},
     "output_type": "execute_result"
    },
    {
     "data": {
      "image/png": "[encoded data removed]",
      "text/plain": [
       "<Figure size 640x480 with 1 Axes>"
      ]
     },
     "metadata": {},
     "output_type": "display_data"
    }
   ],
   "source": [
    "theta_fija = 90 * (pi/180.0) #grados\n",
    "y=theta_fija\n",
    "plot(r0,Cheb_serie_even(extract_coef(0,PHI),y,x))\n",
    "plot(r1,Cheb_serie(extract_coef(1,PHI),y,x))\n",
    "plot(r2,Cheb_serie(extract_coef(2,PHI),y,x))\n",
    "plot(r3,Cheb_serie(extract_coef(3,PHI),y,x))\n",
    "plot(r4,Cheb_serie(extract_coef(4,PHI),y,x))\n",
    "plot(r5,Cheb_serie(extract_coef(5,PHI),y,x))\n",
    "plot(r6,Cheb_serie(extract_coef(6,PHI),y,x))\n",
    "plot(r7,Cheb_serie(extract_coef(7,PHI),y,x))\n",
    "\n",
    "\n",
    "\n",
    "xlim(0,20)"
   ]
  },
  {
   "cell_type": "code",
   "execution_count": 7,
   "metadata": {},
   "outputs": [
    {
     "data": {
      "text/plain": [
       "5.499452467043936e-19"
      ]
     },
     "execution_count": 7,
     "metadata": {},
     "output_type": "execute_result"
    }
   ],
   "source": [
    "max(antiCheb_serie(extract_coef(3,PHI),y,x))"
   ]
  },
  {
   "cell_type": "code",
   "execution_count": 8,
   "metadata": {},
   "outputs": [
    {
     "data": {
      "text/plain": [
       "array([5.49945247e-19, 4.21564183e-19, 3.24336308e-19, 2.50351042e-19,\n",
       "       1.93813350e-19, 1.50444644e-19, 1.17063964e-19, 9.12917444e-20,\n",
       "       7.13380624e-20, 5.58498465e-20, 4.37996884e-20, 3.44043101e-20,\n",
       "       2.70643672e-20, 2.13197268e-20, 1.68160571e-20, 1.32797377e-20,\n",
       "       1.04989326e-20])"
      ]
     },
     "execution_count": 8,
     "metadata": {},
     "output_type": "execute_result"
    }
   ],
   "source": [
    "antiCheb_serie(extract_coef(3,PHI),y,x)"
   ]
  },
  {
   "cell_type": "code",
   "execution_count": 9,
   "metadata": {},
   "outputs": [
    {
     "data": {
      "text/plain": [
       "(0.0, 20.0)"
      ]
     },
     "execution_count": 9,
     "metadata": {},
     "output_type": "execute_result"
    },
    {
     "data": {
      "image/png": "[encoded data removed]",
      "text/plain": [
       "<Figure size 640x480 with 1 Axes>"
      ]
     },
     "metadata": {},
     "output_type": "display_data"
    }
   ],
   "source": [
    "plot(r0,Cheb_serie_even(extract_coef(0,A),y,x))\n",
    "plot(r1,Cheb_serie(extract_coef(1,A),y,x))\n",
    "plot(r2,Cheb_serie(extract_coef(2,A),y,x))\n",
    "plot(r3,Cheb_serie(extract_coef(3,A),y,x))\n",
    "plot(r4,Cheb_serie(extract_coef(4,A),y,x))\n",
    "plot(r5,Cheb_serie(extract_coef(5,A),y,x))\n",
    "plot(r6,Cheb_serie(extract_coef(6,A),y,x))\n",
    "plot(r7,Cheb_serie(extract_coef(7,A),y,x))\n",
    "\n",
    "plot(r0,Cheb_serie_even(extract_coef(0,LAPSE),y,x))\n",
    "plot(r1,Cheb_serie(extract_coef(1,B),y,x))\n",
    "plot(r2,Cheb_serie(extract_coef(2,B),y,x))\n",
    "plot(r3,Cheb_serie(extract_coef(3,B),y,x))\n",
    "plot(r4,Cheb_serie(extract_coef(4,B),y,x))\n",
    "plot(r5,Cheb_serie(extract_coef(5,LAPSE),y,x))\n",
    "plot(r6,Cheb_serie(extract_coef(6,LAPSE),y,x))\n",
    "plot(r7,Cheb_serie(extract_coef(7,LAPSE),y,x))\n",
    "\n",
    "xlim(0,20)"
   ]
  },
  {
   "cell_type": "code",
   "execution_count": 10,
   "metadata": {},
   "outputs": [
    {
     "data": {
      "text/plain": [
       "array([-2.44249065e-15, -3.41948692e-14,  4.30766534e-14, -1.31006317e-14,\n",
       "       -4.90718577e-14,  6.59472477e-14,  7.77156117e-15, -7.12763182e-14,\n",
       "        2.15383267e-14,  5.92859095e-14, -4.15223411e-14, -3.26405569e-14,\n",
       "        5.08482145e-14, -1.35447209e-14, -1.59872116e-14,  1.50990331e-14,\n",
       "        1.11022302e-15])"
      ]
     },
     "execution_count": 10,
     "metadata": {},
     "output_type": "execute_result"
    }
   ],
   "source": [
    "Cheb_serie(extract_coef(3,B),y,x)-Cheb_serie(extract_coef(3,A),y,x)"
   ]
  },
  {
   "cell_type": "code",
   "execution_count": 11,
   "metadata": {},
   "outputs": [],
   "source": [
    "MATRIX=zeros((N*dominios,N*4))\n",
    "MATRIX[:,0:N]=PHI\n",
    "MATRIX[:,N:2*N]=LAPSE\n",
    "MATRIX[:,2*N:3*N]=A\n",
    "MATRIX[:,3*N:4*N]=B\n",
    "\n",
    "# FOR ROTATING\n",
    "#MATRIX=zeros((N*dominios,N*5))\n",
    "#MATRIX[:,0:N]=PHI\n",
    "#MATRIX[:,N:2*N]=LAPSE\n",
    "#MATRIX[:,2*N:3*N]=A\n",
    "#MATRIX[:,3*N:4*N]=B\n",
    "#MATRIX[:,4*N:5*N]=W"
   ]
  },
  {
   "cell_type": "code",
   "execution_count": 12,
   "metadata": {},
   "outputs": [],
   "source": [
    "savetxt(\"omega0p6_g-10_h10.dat\",MATRIX)\n",
    "#savetxt(\"omega0p9_g-10_h0p5.dat\",MATRIX)\n",
    "#savetxt(\"omega0p95_g-10_h0p5.dat\",MATRIX)\n",
    "#savetxt(\"omega0p7584_g-10_h0p5.dat\",MATRIX)\n",
    "#savetxt(\"omega0p9_g0_h0.dat\",MATRIX)"
   ]
  },
  {
   "cell_type": "code",
   "execution_count": 13,
   "metadata": {},
   "outputs": [
    {
     "data": {
      "text/plain": [
       "array([[ 5.67662e-01, -2.27223e-01,  2.99855e-02, ...,  6.76599e-11,\n",
       "        -1.55541e-11,  1.04450e-12],\n",
       "       [-1.76049e-17,  5.69998e-18,  7.82199e-18, ..., -3.88569e-15,\n",
       "         3.15477e-15, -2.97668e-16],\n",
       "       [ 6.96672e-18,  6.70152e-18,  5.82624e-18, ..., -3.73815e-15,\n",
       "         3.16490e-15, -3.27818e-16],\n",
       "       ...,\n",
       "       [-1.15256e-31,  2.26796e-31, -2.15996e-31, ...,  0.00000e+00,\n",
       "         0.00000e+00,  0.00000e+00],\n",
       "       [-8.57743e-32,  1.68809e-31, -1.60845e-31, ...,  0.00000e+00,\n",
       "         0.00000e+00,  0.00000e+00],\n",
       "       [-5.36521e-33,  1.05343e-32, -9.96690e-33, ...,  0.00000e+00,\n",
       "         0.00000e+00,  0.00000e+00]])"
      ]
     },
     "execution_count": 13,
     "metadata": {},
     "output_type": "execute_result"
    }
   ],
   "source": [
    "MATRIX"
   ]
  },
  {
   "cell_type": "code",
   "execution_count": null,
   "metadata": {},
   "outputs": [],
   "source": []
  },
  {
   "cell_type": "code",
   "execution_count": null,
   "metadata": {},
   "outputs": [],
   "source": []
  }
 ],
 "metadata": {
  "kernelspec": {
   "display_name": "Python 3 (ipykernel)",
   "language": "python",
   "name": "python3"
  },
  "language_info": {
   "codemirror_mode": {
    "name": "ipython",
    "version": 3
   },
   "file_extension": ".py",
   "mimetype": "text/x-python",
   "name": "python",
   "nbconvert_exporter": "python",
   "pygments_lexer": "ipython3",
   "version": "3.11.5"
  }
 },
 "nbformat": 4,
 "nbformat_minor": 4
}
