{
 "cells": [
  {
   "cell_type": "code",
   "execution_count": 1,
   "id": "8899ca7e",
   "metadata": {},
   "outputs": [
    {
     "name": "stdout",
     "output_type": "stream",
     "text": [
      "%pylab is deprecated, use %matplotlib inline and import the required libraries.\n",
      "Populating the interactive namespace from numpy and matplotlib\n"
     ]
    }
   ],
   "source": [
    "%pylab inline\n",
    "from scipy import optimize\n",
    "rc('font',**{'family':'sans-serif','sans-serif':['Latin Modern']})\n",
    "rc('text', usetex=True)"
   ]
  },
  {
   "cell_type": "code",
   "execution_count": 2,
   "id": "ffeb5148",
   "metadata": {},
   "outputs": [],
   "source": [
    "datafile=\"g-10.00_h20.00/lapse_5.53e-01.dat\" # this one has omega = 7.044948446677619103e-01\n",
    "\n",
    "### OJO #################################################\n",
    "#omegaB=0.82666    #DONT FORGET CHANGING THE VALUE OF OMEGA, g AND h HERE\n",
    "\n",
    "omegaB=7.044948446677619103e-01\n",
    "g=-10.0\n",
    "h=20.0\n",
    "#########################################################\n",
    "\n",
    "import numpy.polynomial.chebyshev as pch\n",
    "\n",
    "N=18; M=int(N/2); N0=N\n",
    "r_m1=0.1; r_m2=2.5; r_m2m=5.0; r_m3=25.0\n",
    "\n",
    "G=np.loadtxt(datafile); M0=int(N0/2)\n",
    "u10=np.zeros(N0+1); v10=np.zeros(N0+1); w10=np.zeros(N0+1); z10=np.zeros(N0+1)\n",
    "i1,i2=0,M0+1\n",
    "for ii in np.arange(M0+1):\n",
    "    u10[2*ii]=G[ii+i1]\n",
    "i1,i2=i2,i2+N0+1; u20=G[i1:i2]; i1,i2=i2,i2+N0+1; u20m=G[i1:i2]; i1,i2=i2,i2+N0+1; u30=G[i1:i2]; i1,i2=i2,i2+N0+1; u40=G[i1:i2]\n",
    "i1,i2=i2,i2+M0+1\n",
    "for ii in np.arange(M0+1):\n",
    "    v10[2*ii]=G[ii+i1]\n",
    "i1,i2=i2,i2+N0+1; v20=G[i1:i2]; i1,i2=i2,i2+N0+1; v20m=G[i1:i2]; i1,i2=i2,i2+N0+1; v30=G[i1:i2]; i1,i2=i2,i2+N0+1; v40=G[i1:i2]\n",
    "i1,i2=i2,i2+M0+1\n",
    "for ii in np.arange(M0+1):\n",
    "    w10[2*ii]=G[ii+i1]\n",
    "i1,i2=i2,i2+N0+1; w20=G[i1:i2]; i1,i2=i2,i2+N0+1; w20m=G[i1:i2]; i1,i2=i2,i2+N0+1; w30=G[i1:i2]; i1,i2=i2,i2+N0+1; w40=G[i1:i2]"
   ]
  },
  {
   "cell_type": "code",
   "execution_count": 3,
   "id": "b7a55d95",
   "metadata": {},
   "outputs": [],
   "source": [
    "if omegaB!= G[-1]:\n",
    "    print(\"STOP!!!! ! ! !\")"
   ]
  },
  {
   "cell_type": "code",
   "execution_count": 4,
   "id": "ad0c6d54",
   "metadata": {},
   "outputs": [],
   "source": [
    "def phi_interpol(ri):\n",
    "    if ri<r_m1:\n",
    "        x=ri/r_m1\n",
    "        val=pch.Chebyshev(u10)(x)\n",
    "    elif ri>=r_m1 and ri<r_m2:\n",
    "        x=(2*ri-r_m2-r_m1)/(r_m2-r_m1)\n",
    "        val=pch.Chebyshev(u20)(x)\n",
    "    elif ri>=r_m2 and ri<r_m2m:\n",
    "        x=(2*ri-r_m2m-r_m2)/(r_m2m-r_m2)\n",
    "        val=pch.Chebyshev(u20m)(x)\n",
    "    elif ri>=r_m2m and ri<r_m3:\n",
    "        x=(2*ri-r_m3-r_m2m)/(r_m3-r_m2m)\n",
    "        val=pch.Chebyshev(u30)(x)\n",
    "    else:\n",
    "        x=1.0-2.0*r_m3/ri\n",
    "        val=pch.Chebyshev(u40)(x)\n",
    "    return val\n",
    "def N_interpol(ri):\n",
    "    if ri<r_m1:\n",
    "        x=ri/r_m1\n",
    "        val=pch.Chebyshev(v10)(x)\n",
    "    elif ri>=r_m1 and ri<r_m2:\n",
    "        x=(2*ri-r_m2-r_m1)/(r_m2-r_m1)\n",
    "        val=pch.Chebyshev(v20)(x)\n",
    "    elif ri>=r_m2 and ri<r_m2m:\n",
    "        x=(2*ri-r_m2m-r_m2)/(r_m2m-r_m2)\n",
    "        val=pch.Chebyshev(v20m)(x)\n",
    "    elif ri>=r_m2m and ri<r_m3:\n",
    "        x=(2*ri-r_m3-r_m2m)/(r_m3-r_m2m)\n",
    "        val=pch.Chebyshev(v30)(x)\n",
    "    else:\n",
    "        x=1.0-2.0*r_m3/ri\n",
    "        val=pch.Chebyshev(v40)(x)\n",
    "    return val\n",
    "def Psi_interpol(ri):\n",
    "    if ri<r_m1:\n",
    "        x=ri/r_m1\n",
    "        val=pch.Chebyshev(w10)(x)\n",
    "    elif ri>=r_m1 and ri<r_m2:\n",
    "        x=(2*ri-r_m2-r_m1)/(r_m2-r_m1)\n",
    "        val=pch.Chebyshev(w20)(x)\n",
    "    elif ri>=r_m2 and ri<r_m2m:\n",
    "        x=(2*ri-r_m2m-r_m2)/(r_m2m-r_m2)\n",
    "        val=pch.Chebyshev(w20m)(x)\n",
    "    elif ri>=r_m2m and ri<r_m3:\n",
    "        x=(2*ri-r_m3-r_m2m)/(r_m3-r_m2m)\n",
    "        val=pch.Chebyshev(w30)(x)\n",
    "    else:\n",
    "        x=1.0-2.0*r_m3/ri\n",
    "        val=pch.Chebyshev(w40)(x)\n",
    "    return val\n",
    "\n",
    "def dN_interpol(ri):\n",
    "    if ri<r_m1:\n",
    "        x=ri/r_m1\n",
    "        val=pch.Chebyshev.deriv(pch.Chebyshev(v10),m=1)(x)/r_m1\n",
    "    elif ri>=r_m1 and ri<r_m2:\n",
    "        x=(2*ri-r_m2-r_m1)/(r_m2-r_m1)\n",
    "        val=pch.Chebyshev.deriv(pch.Chebyshev(v20),m=1)(x)/(0.5*(r_m2-r_m1))\n",
    "    elif ri>=r_m2 and ri<r_m2m:\n",
    "        x=(2*ri-r_m2m-r_m2)/(r_m2m-r_m2)\n",
    "        val=pch.Chebyshev.deriv(pch.Chebyshev(v20m),m=1)(x)/(0.5*(r_m2m-r_m2))\n",
    "    elif ri>=r_m2m and ri<r_m3:\n",
    "        x=(2*ri-r_m3-r_m2m)/(r_m3-r_m2m)\n",
    "        val=pch.Chebyshev.deriv(pch.Chebyshev(v30),m=1)(x)/(0.5*(r_m3-r_m2m))\n",
    "    else:\n",
    "        x=1.0-2.0*r_m3/ri\n",
    "        val=pch.Chebyshev.deriv(pch.Chebyshev(v40),m=1)(x)*(2.0*r_m3)/(2*r_m3/(1-x))**2\n",
    "    return val\n",
    "def dPsi_interpol(ri):\n",
    "    if ri<r_m1:\n",
    "        x=ri/r_m1\n",
    "        val=pch.Chebyshev.deriv(pch.Chebyshev(w10),m=1)(x)/r_m1\n",
    "    elif ri>=r_m1 and ri<r_m2:\n",
    "        x=(2*ri-r_m2-r_m1)/(r_m2-r_m1)\n",
    "        val=pch.Chebyshev.deriv(pch.Chebyshev(w20),m=1)(x)/(0.5*(r_m2-r_m1))\n",
    "    elif ri>=r_m2 and ri<r_m2m:\n",
    "        x=(2*ri-r_m2m-r_m2)/(r_m2m-r_m2)\n",
    "        val=pch.Chebyshev.deriv(pch.Chebyshev(w20m),m=1)(x)/(0.5*(r_m2m-r_m2))\n",
    "    elif ri>=r_m2m and ri<r_m3:\n",
    "        x=(2*ri-r_m3-r_m2m)/(r_m3-r_m2m)\n",
    "        val=pch.Chebyshev.deriv(pch.Chebyshev(w30),m=1)(x)/(0.5*(r_m3-r_m2m))\n",
    "    else:\n",
    "        x=1.0-2.0*r_m3/ri\n",
    "        val=pch.Chebyshev.deriv(pch.Chebyshev(w40),m=1)(x)*(2.0*r_m3)/(2*r_m3/(1-x))**2\n",
    "    return val"
   ]
  },
  {
   "cell_type": "code",
   "execution_count": null,
   "id": "5abda7e7",
   "metadata": {},
   "outputs": [],
   "source": []
  },
  {
   "cell_type": "code",
   "execution_count": 5,
   "id": "d85d33e6",
   "metadata": {},
   "outputs": [],
   "source": [
    "xf=480/2\n",
    "num=4*2400+1\n",
    "\n",
    "xx=np.linspace(0,xf,num)\n",
    "xx_double=np.linspace(0,xf,2*(num)-1)\n",
    "\n",
    "phi_array=zeros(2*(num)-1)\n",
    "for oo in arange(2*(num)-1):\n",
    "    phi_array[oo]=phi_interpol(xx_double[oo])\n",
    "metric_term_array=zeros(2*(num)-1)\n",
    "for oo in arange(2*(num)-1):\n",
    "    metric_term_array[oo]=dN_interpol(xx_double[oo])/N_interpol(xx_double[oo])+2.0*dPsi_interpol(xx_double[oo])/Psi_interpol(xx_double[oo]) \n",
    "metric_term2_array=zeros(2*(num)-1)\n",
    "for oo in arange(2*(num)-1):\n",
    "    metric_term2_array[oo]=Psi_interpol(xx_double[oo])**4  \n",
    "metric_term3_array=zeros(2*(num)-1)\n",
    "for oo in arange(2*(num)-1):\n",
    "    metric_term3_array[oo]=N_interpol(xx_double[oo])**2  "
   ]
  },
  {
   "cell_type": "code",
   "execution_count": 16,
   "id": "140cb899",
   "metadata": {},
   "outputs": [
    {
     "data": {
      "text/plain": [
       "(0.0, 15.0)"
      ]
     },
     "execution_count": 16,
     "metadata": {},
     "output_type": "execute_result"
    },
    {
     "data": {
      "image/png": "[encoded data removed]",
      "text/plain": [
       "<Figure size 640x480 with 1 Axes>"
      ]
     },
     "metadata": {},
     "output_type": "display_data"
    }
   ],
   "source": [
    "plot(xx_double,sqrt(metric_term3_array))\n",
    "xlim(0,15)"
   ]
  },
  {
   "cell_type": "code",
   "execution_count": 7,
   "id": "4baa7ff5",
   "metadata": {},
   "outputs": [
    {
     "data": {
      "text/plain": [
       "array([2.04499027, 2.04492344, 2.04472301, ..., 1.00336196, 1.00336179,\n",
       "       1.00336161])"
      ]
     },
     "execution_count": 7,
     "metadata": {},
     "output_type": "execute_result"
    }
   ],
   "source": [
    "metric_term2_array"
   ]
  },
  {
   "cell_type": "code",
   "execution_count": 8,
   "id": "0c6fe81d",
   "metadata": {},
   "outputs": [],
   "source": [
    "def f(yy,t):\n",
    "    Rp,Ip,dRp,dIp,Rm,Im,dRm,dIm=yy\n",
    "    \n",
    "    RKelement=round((t-xx_double[0])/(xx_double[-1]-xx_double[0]) * (len(xx_double)-1))\n",
    "    phi=phi_array[RKelement]\n",
    "    U=1.0+2.*g*phi**2+3.*h*phi**4\n",
    "    W=g*phi**2+2*h*phi**4\n",
    "    metric_term=metric_term_array[RKelement]\n",
    "    metric_term2=metric_term2_array[RKelement]\n",
    "    metric_term3=metric_term3_array[RKelement]\n",
    "    \n",
    "    dRpdt=dRp\n",
    "    dIpdt=dIp\n",
    "    ddRpdt = -2.0*dRp/(t+1e-10) - (metric_term)*Rp - metric_term2*((omegap**2/metric_term3-U)*Rp-W*Rm)       \n",
    "    ddIpdt = -2.0*dIp/(t+1e-10) - (metric_term)*Ip - metric_term2*((omegap**2/metric_term3-U)*Ip+W*Im)       \n",
    "    dRmdt=dRm\n",
    "    dImdt=dIm\n",
    "    ddRmdt = -2.0*dRm/(t+1e-10) - (metric_term)*Rm - metric_term2*((omegam**2/metric_term3-U)*Rm-W*Rp)       \n",
    "    ddImdt = -2.0*dIm/(t+1e-10) - (metric_term)*Im - metric_term2*((omegam**2/metric_term3-U)*Im+W*Ip)       \n",
    "    \n",
    "    return array([dRpdt,dIpdt,ddRpdt,ddIpdt,dRmdt,dImdt,ddRmdt,ddImdt])\n",
    "\n",
    "def RK(f,t,U0):\n",
    "    N=len(f(U0,t[0]))\n",
    "    U=zeros((N,len(t)))\n",
    "    k1,k2,k3,k4=zeros((4,N,len(t)))\n",
    "    U[:,0]=U0\n",
    "    for ii in range(len(t)-1):\n",
    "        Uii=U[:,ii]\n",
    "        h=t[ii+1]-t[ii]\n",
    "        k1[:,ii]=h*f(Uii,t[ii])\n",
    "        k2[:,ii]=h*f(Uii+0.5*k1[:,ii],t[ii]+0.5*h)\n",
    "        k3[:,ii]=h*f(Uii+0.5*k2[:,ii],t[ii]+0.5*h)\n",
    "        k4[:,ii]=h*f(Uii+k3[:,ii],t[ii]+h)\n",
    "        U[:,ii+1]=Uii+k1[:,ii]/6.+k2[:,ii]/3.+k3[:,ii]/3.+k4[:,ii]/6.\n",
    "    return U"
   ]
  },
  {
   "cell_type": "code",
   "execution_count": 9,
   "id": "dc07dcce",
   "metadata": {},
   "outputs": [],
   "source": [
    "def integrate_THETA(Rm00,Im00):\n",
    "    Rm0=Rm00\n",
    "    Im0=Im00\n",
    "    U0=Rp0,Ip0,dRp0,dIp0,Rm0,Im0,dRm0,dIm0\n",
    "\n",
    "    SOL=RK(f,xx,U0)\n",
    "\n",
    "    Rp_sol=SOL[0]\n",
    "    Ip_sol=SOL[1]\n",
    "    Rm_sol=SOL[4]\n",
    "    Im_sol=SOL[5]\n",
    "    dRp_sol=SOL[2]\n",
    "    dIp_sol=SOL[3]\n",
    "    dRm_sol=SOL[6]\n",
    "    dIm_sol=SOL[7]\n",
    "\n",
    "    kp=sqrt(omegap**2-1.)\n",
    "    km=sqrt(omegam**2-1.)\n",
    "\n",
    "    chip=Rp_sol+1j*Ip_sol\n",
    "    dchip=dRp_sol+1j*dIp_sol\n",
    "    chim=Rm_sol+1j*Im_sol\n",
    "    dchim=dRm_sol+1j*dIm_sol\n",
    "\n",
    "    Ap1=0.5*xx[-1]*exp(-1j*kp*xx[-1])*(kp*chip[-1]-1j*dchip[-1])\n",
    "    Am1=0.5*xx[-1]*exp(-1j*km*xx[-1])*(km*chim[-1]-1j*dchim[-1])\n",
    "    Bp1=0.5*xx[-1]*exp(1j*kp*xx[-1])*(kp*chip[-1]+1j*dchip[-1])\n",
    "    Bm1=0.5*xx[-1]*exp(1j*km*xx[-1])*(km*chim[-1]+1j*dchim[-1])\n",
    "    \n",
    "    second_point = -100   #this will take also this point and take the average -10 and the trivial -1 also work\n",
    "    Ap2=0.5*xx[second_point]*exp(-1j*kp*xx[second_point])*(kp*chip[second_point]-1j*dchip[second_point])\n",
    "    Am2=0.5*xx[second_point]*exp(-1j*km*xx[second_point])*(km*chim[second_point]-1j*dchim[second_point])\n",
    "    Bp2=0.5*xx[second_point]*exp(1j*kp*xx[second_point])*(kp*chip[second_point]+1j*dchip[second_point])\n",
    "    Bm2=0.5*xx[second_point]*exp(1j*km*xx[second_point])*(km*chim[second_point]+1j*dchim[second_point])\n",
    "    \n",
    "    #Ap2=0.5*xx[-1]*exp(-1j*kp*xx[-1])*(kp*chip[-1]-1j*dchip[-1])\n",
    "    #Am2=0.5*xx[-1]*exp(-1j*km*xx[-1])*(km*chim[-1]-1j*dchim[-1])\n",
    "    #Bp2=0.5*xx[-1]*exp(1j*kp*xx[-1])*(kp*chip[-1]+1j*dchip[-1])\n",
    "    #Bm2=0.5*xx[-1]*exp(1j*km*xx[-1])*(km*chim[-1]+1j*dchim[-1])\n",
    "    \n",
    "    Ap=(Ap1+Ap2)/2.     #here we take the average\n",
    "    Am=(Am1+Am2)/2.\n",
    "    Bp=(Bp1+Bp2)/2.\n",
    "    Bm=(Bm1+Bm2)/2.\n",
    "\n",
    "    #SANITY CHECK  (check that every solution satisfy eq. 44 of BS superradiance manuscript)\n",
    "\n",
    "    check1=abs(Ap)**2/kp+abs(Bm)**2/km\n",
    "    check2=abs(Am)**2/km+abs(Bp)**2/kp\n",
    "\n",
    "    if (check1-check2)/(check1+check2)>1e-3:\n",
    "        print(\"there was a problem \"+str((check1-check2)/(check1+check2)))\n",
    "    return array([Ap,Am,Bp,Bm])\n",
    "\n",
    "\n",
    "def one_mode(xxxx):\n",
    "    Ap,Am,Bp,Bm = integrate_THETA(xxxx[0],xxxx[1])\n",
    "    if omega>0:\n",
    "        return array([Am.real,Am.imag])\n",
    "    if omega<0:\n",
    "        return array([Bm.real,Bm.imag])"
   ]
  },
  {
   "cell_type": "code",
   "execution_count": 10,
   "id": "f6af9b2c",
   "metadata": {
    "scrolled": true
   },
   "outputs": [
    {
     "name": "stdout",
     "output_type": "stream",
     "text": [
      "0[ 0.0478368  -0.06608159]\n",
      "1[ 0.05057904 -0.07013735]\n",
      "2[ 0.05357091 -0.0751408 ]\n",
      "3[ 0.05713006 -0.07974438]\n",
      "4[ 0.06024529 -0.08509872]\n",
      "5[ 0.06404532 -0.09098932]\n",
      "6[ 0.06809022 -0.09716148]\n",
      "7[ 0.07250435 -0.10420999]\n",
      "8[ 0.07634266 -0.11185212]\n",
      "9[ 0.08188575 -0.12017299]\n",
      "10[ 0.0870658  -0.12922834]\n",
      "11[ 0.09232201 -0.13904743]\n",
      "12[ 0.09867978 -0.15037507]\n",
      "13[ 0.10550573 -0.16315489]\n",
      "14[ 0.11210739 -0.17743673]\n",
      "15[ 0.11986433 -0.19413188]\n",
      "16[ 0.1259468  -0.21429612]\n",
      "17[ 0.13322899 -0.23608931]\n",
      "18[ 0.13774995 -0.26308278]\n",
      "19[ 0.14290943 -0.29252454]\n",
      "20[ 0.14290943 -0.29252454]\n",
      "21[ 0.141711   -0.29556817]\n",
      "22[ 0.14211921 -0.29526783]\n",
      "23[ 0.14295111 -0.29865276]\n",
      "24[ 0.1414312  -0.29919996]\n",
      "25[ 0.14340059 -0.30085914]\n",
      "26[ 0.14185439 -0.30353221]\n",
      "27[ 0.14264777 -0.30344511]\n",
      "28[ 0.14304536 -0.30695275]\n",
      "29[ 0.14173277 -0.30730936]\n",
      "30[ 0.14358805 -0.30929076]\n",
      "31[ 0.1419291  -0.31178787]\n",
      "32[ 0.1428085 -0.3118653]\n",
      "33[ 0.14303969 -0.31538416]\n",
      "34[ 0.14176234 -0.31578238]\n",
      "35[ 0.14351404 -0.31780406]\n",
      "36[ 0.14188238 -0.32036123]\n",
      "37[ 0.14259717 -0.32049177]\n",
      "38[ 0.14291791 -0.32396535]\n",
      "39[ 0.14150148 -0.32459939]\n",
      "40[-0.04497692  0.04890472]\n",
      "41[-0.0475505   0.05131215]\n",
      "42[-0.05014778  0.05380966]\n",
      "43[-0.05287951  0.05627307]\n",
      "44[-0.05578486  0.05875187]\n",
      "45[-0.0588225   0.06149252]\n",
      "46[-0.06239651  0.06403185]\n",
      "47[-0.0657971   0.06718593]\n",
      "48[-0.06957245  0.06998108]\n",
      "49[-0.07325948  0.07251253]\n",
      "50[-0.07750287  0.07553632]\n",
      "51[-0.0819438  0.078462 ]\n",
      "52[-0.08674251  0.08129579]\n",
      "53[-0.09128557  0.08451766]\n",
      "54[-0.09709706  0.08676191]\n",
      "55[-0.10212836  0.08888404]\n",
      "56[-0.10765497  0.09165653]\n",
      "57[-0.11481286  0.09297893]\n",
      "58[-0.12146904  0.09381168]\n",
      "59[-0.1289325  0.0924598]\n",
      "60[-0.1289325  0.0924598]\n",
      "61[-0.12972722  0.09212694]\n",
      "62[-0.13056511  0.09207311]\n",
      "63[-0.13128335  0.09220707]\n",
      "64[-0.13184737  0.09238986]\n",
      "65[-0.13231414  0.09252056]\n",
      "66[-0.13277108  0.09255153]\n",
      "67[-0.13329288  0.09245512]\n",
      "68[-0.1339097   0.09217547]\n",
      "69[-0.13454509  0.0916042 ]\n",
      "70[-0.1349013  0.0906739]\n",
      "71[-0.13446737  0.08972974]\n",
      "72[-0.13327236  0.08998419]\n",
      "73[-0.1336266   0.09224633]\n",
      "74[-0.1375141   0.09197547]\n",
      "75[-0.13588874  0.08785337]\n",
      "76[-0.13573204  0.0933685 ]\n",
      "77[-0.13662288  0.08623851]\n",
      "78[-0.14259078  0.09032635]\n",
      "79[-0.14413062  0.09360818]\n"
     ]
    }
   ],
   "source": [
    "### NOT CHANGE\n",
    "Rp0=1.0    #\n",
    "Ip0=0.0    #\n",
    "dRp0=0.0   #\n",
    "dIp0=0.0   #\n",
    "dRm0=0.0   #\n",
    "dIm0=0.0   #\n",
    "###########\n",
    "\n",
    "OMEGAm=concatenate((geomspace(-5,-omegaB-1.1,20), geomspace(-omegaB-1.1,-omegaB-1.01,20)))\n",
    "OMEGAp=concatenate((geomspace(5,omegaB+1.1,20), geomspace(omegaB+1.1,omegaB+1.01,20)))\n",
    "OMEGA=concatenate((OMEGAm,OMEGAp))\n",
    "AE=zeros(len(OMEGA))\n",
    "AE_Cardoso=zeros(len(OMEGA))\n",
    "\n",
    "semilla = array([0.04623308, -0.01241643])\n",
    "\n",
    "\n",
    "for cc in arange(len(OMEGA)):\n",
    "    omega=OMEGA[cc]\n",
    "    omegap=omegaB+omega\n",
    "    omegam=omegaB-omega\n",
    "\n",
    "    \n",
    "    root_ = optimize.root(one_mode, x0=semilla)\n",
    "    \n",
    "    Ap,Am,Bp,Bm = integrate_THETA(root_.x[0],root_.x[1])\n",
    "    \n",
    "    kp=sqrt(omegap**2-1.) # require to be recalculated here, sorry\n",
    "    km=sqrt(omegam**2-1.)\n",
    "    \n",
    "    temp1=(omegap**2/kp**2)*abs(Ap)**2+(omegam**2/km**2)*abs(Bm)**2\n",
    "    temp2=(omegap**2/kp**2)*abs(Bp)**2+(omegam**2/km**2)*abs(Am)**2\n",
    "\n",
    "    AE[cc]=(temp1/temp2)**(sign(omega))\n",
    "\n",
    "    temp1=(omegap/kp)*abs(Ap)**2-(omegam/km)*abs(Bm)**2\n",
    "    temp2=(omegap/kp)*abs(Bp)**2-(omegam/km)*abs(Am)**2\n",
    "\n",
    "    AE_Cardoso[cc]=abs(temp1/temp2)**(sign(omega))\n",
    "\n",
    "    print(cc , end='')\n",
    "    semilla = root_.x\n",
    "    print(semilla)\n",
    "    #if sign(OMEGA[cc])!=sign(OMEGA[cc+1]):\n",
    "    #    semilla = array([0.04623308, -0.01241643])\n"
   ]
  },
  {
   "cell_type": "code",
   "execution_count": 11,
   "id": "0413fcbd",
   "metadata": {},
   "outputs": [
    {
     "data": {
      "text/plain": [
       "<matplotlib.lines.Line2D at 0x1276450f0>"
      ]
     },
     "execution_count": 11,
     "metadata": {},
     "output_type": "execute_result"
    },
    {
     "data": {
      "image/png": "[encoded data removed]",
      "text/plain": [
       "<Figure size 640x480 with 1 Axes>"
      ]
     },
     "metadata": {},
     "output_type": "display_data"
    }
   ],
   "source": [
    "scatter(OMEGA,AE)\n",
    "scatter(OMEGA,AE_Cardoso)\n",
    "axvline(x=-omegaB-1, color=\"k\", linestyle = \"--\")\n",
    "axvline(x=omegaB+1, color=\"k\", linestyle = \"--\")\n",
    "#ylim(0,2.0)"
   ]
  },
  {
   "cell_type": "code",
   "execution_count": 38,
   "id": "1c81965f",
   "metadata": {},
   "outputs": [],
   "source": []
  },
  {
   "cell_type": "code",
   "execution_count": null,
   "id": "511f3ae3",
   "metadata": {},
   "outputs": [],
   "source": []
  },
  {
   "cell_type": "code",
   "execution_count": null,
   "id": "fd00fec0",
   "metadata": {},
   "outputs": [],
   "source": []
  },
  {
   "cell_type": "code",
   "execution_count": null,
   "id": "6de7b270",
   "metadata": {},
   "outputs": [],
   "source": []
  },
  {
   "cell_type": "code",
   "execution_count": null,
   "id": "03cb99a5",
   "metadata": {},
   "outputs": [],
   "source": []
  },
  {
   "cell_type": "code",
   "execution_count": null,
   "id": "dd0561b3",
   "metadata": {},
   "outputs": [],
   "source": []
  },
  {
   "cell_type": "code",
   "execution_count": null,
   "id": "44e95c12",
   "metadata": {},
   "outputs": [],
   "source": []
  },
  {
   "cell_type": "code",
   "execution_count": null,
   "id": "47b6d205",
   "metadata": {},
   "outputs": [],
   "source": []
  },
  {
   "cell_type": "code",
   "execution_count": null,
   "id": "fac586ac",
   "metadata": {},
   "outputs": [],
   "source": []
  },
  {
   "cell_type": "code",
   "execution_count": null,
   "id": "01918047",
   "metadata": {},
   "outputs": [],
   "source": []
  },
  {
   "cell_type": "code",
   "execution_count": null,
   "id": "d3d960aa",
   "metadata": {},
   "outputs": [],
   "source": []
  },
  {
   "cell_type": "code",
   "execution_count": null,
   "id": "3c080b68",
   "metadata": {},
   "outputs": [],
   "source": []
  },
  {
   "cell_type": "code",
   "execution_count": null,
   "id": "2ca9188d",
   "metadata": {},
   "outputs": [],
   "source": []
  },
  {
   "cell_type": "code",
   "execution_count": null,
   "id": "7dc02d0b",
   "metadata": {},
   "outputs": [],
   "source": []
  },
  {
   "cell_type": "code",
   "execution_count": null,
   "id": "fa472711",
   "metadata": {},
   "outputs": [],
   "source": []
  },
  {
   "cell_type": "code",
   "execution_count": 46,
   "id": "402f6158",
   "metadata": {
    "scrolled": false
   },
   "outputs": [
    {
     "data": {
      "image/png": "[encoded data removed]",
      "text/plain": [
       "<Figure size 600x400 with 1 Axes>"
      ]
     },
     "metadata": {},
     "output_type": "display_data"
    }
   ],
   "source": [
    "scatter(OMEGA1,AE_Cardoso1, color=\"blue\", linestyle=\"-\", label=r\"$\\omega_B/\\mu=0.6$\", s=10)\n",
    "scatter(OMEGA2,AE_Cardoso2, color=\"darkred\", linestyle=\"-\", label=r\"$\\omega_B/\\mu=0.475$\", s=10)\n",
    "scatter(OMEGA3,AE_Cardoso3, color=\"goldenrod\", linestyle=\"-\", label=r\"$\\omega_B/\\mu=0.35$\", s=10)\n",
    "#plot(omegaNu10,MNu10/Mp**2, color=\"red\", linestyle=\"-\",label=r\"$h=10$\")\n",
    "\n",
    "#scatter(omega_0[argmax(M_0)],M_0[argmax(M_0)], color=\"k\", marker=\"s\", s=10)\n",
    "\n",
    "rcParams[\"figure.figsize\"] = (6,4)\n",
    "plt.xlabel(r\"$\\omega/\\mu$\", fontsize=16)\n",
    "plt.ylabel(r\"$A^\\mathcal{F}_E$\", fontsize=16)\n",
    "\n",
    "#plt.legend(loc=\"center left\", fontsize=14)\n",
    "\n",
    "xlim(-10,10)\n",
    "#ylim(0.9,1.2)\n",
    "plt.xticks(fontsize=12)\n",
    "plt.yticks(fontsize=12)\n",
    "\n",
    "plt.legend(loc=\"best\", fontsize=10)\n",
    "\n",
    "#plt.savefig('AFlinear_gm10_h10.pdf',bbox_inches='tight')"
   ]
  }
 ],
 "metadata": {
  "kernelspec": {
   "display_name": "Python 3 (ipykernel)",
   "language": "python",
   "name": "python3"
  },
  "language_info": {
   "codemirror_mode": {
    "name": "ipython",
    "version": 3
   },
   "file_extension": ".py",
   "mimetype": "text/x-python",
   "name": "python",
   "nbconvert_exporter": "python",
   "pygments_lexer": "ipython3",
   "version": "3.10.9"
  }
 },
 "nbformat": 4,
 "nbformat_minor": 5
}
