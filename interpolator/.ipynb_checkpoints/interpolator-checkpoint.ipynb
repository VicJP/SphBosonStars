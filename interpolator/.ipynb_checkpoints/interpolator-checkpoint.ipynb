{
 "cells": [
  {
   "cell_type": "markdown",
   "metadata": {},
   "source": [
    "## This notebook will translate the spectral coefficient information to configuration space (in isotropic coordinates) in a specified grid"
   ]
  },
  {
   "cell_type": "code",
   "execution_count": 1,
   "metadata": {
    "scrolled": true
   },
   "outputs": [],
   "source": [
    "import numpy as np\n",
    "import numpy.polynomial.chebyshev as pch\n",
    "import matplotlib.pyplot as plt\n",
    "\n",
    "plt.rc('font',**{'family':'sans-serif','sans-serif':['Latin Modern']})\n",
    "plt.rc('text', usetex=True)"
   ]
  },
  {
   "cell_type": "markdown",
   "metadata": {},
   "source": [
    "Choose the solution to analyse"
   ]
  },
  {
   "cell_type": "code",
   "execution_count": 148,
   "metadata": {},
   "outputs": [],
   "source": [
    "\n",
    "#datafile=\"../solutions_varying_omega/g-10.00_h10.00/omega_3.98e-01.dat\"\n",
    "datafile=\"../solutions_varying_omega/g-10.00_h10.00/omega_0.00e+00.dat\"\n",
    "N=18\n"
   ]
  },
  {
   "cell_type": "markdown",
   "metadata": {},
   "source": [
    "run the following cell as is"
   ]
  },
  {
   "cell_type": "code",
   "execution_count": 149,
   "metadata": {},
   "outputs": [
    {
     "name": "stdout",
     "output_type": "stream",
     "text": [
      "For this solution omega = 0.0\n"
     ]
    }
   ],
   "source": [
    "M=int(N/2)\n",
    "N0=N\n",
    "r_m1=0.1\n",
    "r_m2=2.5\n",
    "r_m2m=5.0\n",
    "r_m3=25.0\n",
    "\n",
    "g=np.loadtxt(datafile)\n",
    "M0=int(N0/2)\n",
    "u10=np.zeros(N0+1)\n",
    "v10=np.zeros(N0+1)\n",
    "w10=np.zeros(N0+1)\n",
    "z10=np.zeros(N0+1)\n",
    "i1,i2=0,M0+1\n",
    "for ii in np.arange(M0+1):\n",
    "    u10[2*ii]=g[ii+i1]\n",
    "i1,i2=i2,i2+N0+1\n",
    "u20=g[i1:i2]\n",
    "i1,i2=i2,i2+N0+1\n",
    "u20m=g[i1:i2]\n",
    "i1,i2=i2,i2+N0+1\n",
    "u30=g[i1:i2]\n",
    "i1,i2=i2,i2+N0+1\n",
    "u40=g[i1:i2]\n",
    "i1,i2=i2,i2+M0+1\n",
    "for ii in np.arange(M0+1):\n",
    "    v10[2*ii]=g[ii+i1]\n",
    "i1,i2=i2,i2+N0+1\n",
    "v20=g[i1:i2]\n",
    "i1,i2=i2,i2+N0+1\n",
    "v20m=g[i1:i2]\n",
    "i1,i2=i2,i2+N0+1\n",
    "v30=g[i1:i2]\n",
    "i1,i2=i2,i2+N0+1\n",
    "v40=g[i1:i2]\n",
    "i1,i2=i2,i2+M0+1\n",
    "for ii in np.arange(M0+1):\n",
    "    w10[2*ii]=g[ii+i1]\n",
    "i1,i2=i2,i2+N0+1\n",
    "w20=g[i1:i2]\n",
    "i1,i2=i2,i2+N0+1\n",
    "w20m=g[i1:i2]\n",
    "i1,i2=i2,i2+N0+1\n",
    "w30=g[i1:i2]\n",
    "i1,i2=i2,i2+N0+1\n",
    "w40=g[i1:i2]\n",
    "\n",
    "\n",
    "def nucleus(rad, bound):\n",
    "    return rad / bound\n",
    "def shell(rad, bound1, bound2):\n",
    "    return (2.0*rad-bound2-bound1) / (bound2-bound1)\n",
    "def compact(rad, bound):\n",
    "    return 1.0-2.0*bound/rad\n",
    "\n",
    "#Lambda and omega are read from the solution file =D\n",
    "omega= g[-1]\n",
    "\n",
    "g=-10.0\n",
    "h=10.0\n",
    "\n",
    "print(\"For this solution omega = \"+str(omega))"
   ]
  },
  {
   "cell_type": "markdown",
   "metadata": {},
   "source": [
    "Specify the grid you want"
   ]
  },
  {
   "cell_type": "code",
   "execution_count": 150,
   "metadata": {},
   "outputs": [],
   "source": [
    "dr0     = 0.01\n",
    "Nrtotal = 1000\n",
    "R_new   = np.arange(dr0/2,dr0*Nrtotal+dr0/2,dr0)\n",
    "\n",
    "\n",
    "phi = np.zeros(len(R_new))\n",
    "alp = np.zeros(len(R_new))   #this is the lapse alp = N\n",
    "psi = np.zeros(len(R_new))\n",
    "\n",
    "dphi= np.zeros(len(R_new))\n",
    "dalp= np.zeros(len(R_new))\n",
    "dpsi= np.zeros(len(R_new))\n",
    "\n",
    "ddphi= np.zeros(len(R_new))\n",
    "ddalp= np.zeros(len(R_new))\n",
    "ddpsi= np.zeros(len(R_new))"
   ]
  },
  {
   "cell_type": "markdown",
   "metadata": {},
   "source": [
    "run the following cell. But if you want to add third order derivatives it need to be modified"
   ]
  },
  {
   "cell_type": "code",
   "execution_count": 151,
   "metadata": {},
   "outputs": [],
   "source": [
    "for ll in np.arange(len(R_new)):\n",
    "    R = R_new[ll]\n",
    "    if R < r_m1:\n",
    "        y_kad = nucleus(R, r_m1)\n",
    "        phi[ll]=pch.Chebyshev(u10)(y_kad)\n",
    "        alp[ll]=pch.Chebyshev(v10)(y_kad)\n",
    "        psi[ll]=pch.Chebyshev(w10)(y_kad)\n",
    "        dphi[ll]=pch.Chebyshev.deriv(pch.Chebyshev(u10),m=1)(y_kad)/r_m1   #this is chain rule\n",
    "        dalp[ll]=pch.Chebyshev.deriv(pch.Chebyshev(v10),m=1)(y_kad)/r_m1\n",
    "        dpsi[ll]=pch.Chebyshev.deriv(pch.Chebyshev(w10),m=1)(y_kad)/r_m1\n",
    "        ddphi[ll]=pch.Chebyshev.deriv(pch.Chebyshev(u10),m=2)(y_kad)/r_m1**2\n",
    "        ddalp[ll]=pch.Chebyshev.deriv(pch.Chebyshev(v10),m=2)(y_kad)/r_m1**2\n",
    "        ddpsi[ll]=pch.Chebyshev.deriv(pch.Chebyshev(w10),m=2)(y_kad)/r_m1**2\n",
    "    elif R < r_m2:\n",
    "        y_kad = shell(R, r_m1, r_m2)\n",
    "        phi[ll]=pch.Chebyshev(u20)(y_kad)\n",
    "        alp[ll]=pch.Chebyshev(v20)(y_kad)\n",
    "        psi[ll]=pch.Chebyshev(w20)(y_kad)\n",
    "        dphi[ll]=pch.Chebyshev.deriv(pch.Chebyshev(u20),m=1)(y_kad)/(0.5*(r_m2-r_m1))\n",
    "        dalp[ll]=pch.Chebyshev.deriv(pch.Chebyshev(v20),m=1)(y_kad)/(0.5*(r_m2-r_m1))\n",
    "        dpsi[ll]=pch.Chebyshev.deriv(pch.Chebyshev(w20),m=1)(y_kad)/(0.5*(r_m2-r_m1))\n",
    "        ddphi[ll]=pch.Chebyshev.deriv(pch.Chebyshev(u20),m=2)(y_kad)/(0.5*(r_m2-r_m1))**2\n",
    "        ddalp[ll]=pch.Chebyshev.deriv(pch.Chebyshev(v20),m=2)(y_kad)/(0.5*(r_m2-r_m1))**2\n",
    "        ddpsi[ll]=pch.Chebyshev.deriv(pch.Chebyshev(w20),m=2)(y_kad)/(0.5*(r_m2-r_m1))**2\n",
    "    elif R < r_m2m:\n",
    "        y_kad = shell(R, r_m2, r_m2m)\n",
    "        phi[ll]=pch.Chebyshev(u20m)(y_kad)\n",
    "        alp[ll]=pch.Chebyshev(v20m)(y_kad)\n",
    "        psi[ll]=pch.Chebyshev(w20m)(y_kad)\n",
    "        dphi[ll]=pch.Chebyshev.deriv(pch.Chebyshev(u20m),m=1)(y_kad)/(0.5*(r_m2m-r_m2))\n",
    "        dalp[ll]=pch.Chebyshev.deriv(pch.Chebyshev(v20m),m=1)(y_kad)/(0.5*(r_m2m-r_m2))\n",
    "        dpsi[ll]=pch.Chebyshev.deriv(pch.Chebyshev(w20m),m=1)(y_kad)/(0.5*(r_m2m-r_m2))\n",
    "        ddphi[ll]=pch.Chebyshev.deriv(pch.Chebyshev(u20m),m=2)(y_kad)/(0.5*(r_m2m-r_m2))**2\n",
    "        ddalp[ll]=pch.Chebyshev.deriv(pch.Chebyshev(v20m),m=2)(y_kad)/(0.5*(r_m2m-r_m2))**2\n",
    "        ddpsi[ll]=pch.Chebyshev.deriv(pch.Chebyshev(w20m),m=2)(y_kad)/(0.5*(r_m2m-r_m2))**2\n",
    "    elif R < r_m3:\n",
    "        y_kad = shell(R, r_m2m, r_m3)\n",
    "        phi[ll]=pch.Chebyshev(u30)(y_kad)\n",
    "        alp[ll]=pch.Chebyshev(v30)(y_kad)\n",
    "        psi[ll]=pch.Chebyshev(w30)(y_kad)\n",
    "        dphi[ll]=pch.Chebyshev.deriv(pch.Chebyshev(u30),m=1)(y_kad)/(0.5*(r_m3-r_m2m))\n",
    "        dalp[ll]=pch.Chebyshev.deriv(pch.Chebyshev(v30),m=1)(y_kad)/(0.5*(r_m3-r_m2m))\n",
    "        dpsi[ll]=pch.Chebyshev.deriv(pch.Chebyshev(w30),m=1)(y_kad)/(0.5*(r_m3-r_m2m))\n",
    "        ddphi[ll]=pch.Chebyshev.deriv(pch.Chebyshev(u30),m=2)(y_kad)/(0.5*(r_m3-r_m2m))**2\n",
    "        ddalp[ll]=pch.Chebyshev.deriv(pch.Chebyshev(v30),m=2)(y_kad)/(0.5*(r_m3-r_m2m))**2\n",
    "        ddpsi[ll]=pch.Chebyshev.deriv(pch.Chebyshev(w30),m=2)(y_kad)/(0.5*(r_m3-r_m2m))**2\n",
    "    else:\n",
    "        y_kad = compact(R, r_m3)\n",
    "        phi[ll]=pch.Chebyshev(u40)(y_kad)\n",
    "        alp[ll]=pch.Chebyshev(v40)(y_kad)\n",
    "        psi[ll]=pch.Chebyshev(w40)(y_kad)\n",
    "        dphi[ll]=pch.Chebyshev.deriv(pch.Chebyshev(u40),m=1)(y_kad)*(2.0*r_m3)/R**2\n",
    "        dalp[ll]=pch.Chebyshev.deriv(pch.Chebyshev(v40),m=1)(y_kad)*(2.0*r_m3)/R**2\n",
    "        dpsi[ll]=pch.Chebyshev.deriv(pch.Chebyshev(w40),m=1)(y_kad)*(2.0*r_m3)/R**2\n",
    "        ddphi[ll]=pch.Chebyshev.deriv(pch.Chebyshev(u40),m=1)(y_kad)*(-4.0*r_m3)/R**3 + pch.Chebyshev.deriv(pch.Chebyshev(u40),m=2)(y_kad)*(2.0*r_m3)**2/R**4\n",
    "        ddalp[ll]=pch.Chebyshev.deriv(pch.Chebyshev(v40),m=1)(y_kad)*(-4.0*r_m3)/R**3 + pch.Chebyshev.deriv(pch.Chebyshev(v40),m=2)(y_kad)*(2.0*r_m3)**2/R**4\n",
    "        ddpsi[ll]=pch.Chebyshev.deriv(pch.Chebyshev(w40),m=1)(y_kad)*(-4.0*r_m3)/R**3 + pch.Chebyshev.deriv(pch.Chebyshev(w40),m=2)(y_kad)*(2.0*r_m3)**2/R**4\n",
    "        "
   ]
  },
  {
   "cell_type": "code",
   "execution_count": 152,
   "metadata": {},
   "outputs": [
    {
     "data": {
      "text/plain": [
       "<matplotlib.collections.PathCollection at 0x15be3b880>"
      ]
     },
     "execution_count": 152,
     "metadata": {},
     "output_type": "execute_result"
    },
    {
     "data": {
      "image/png": "[encoded data removed]",
      "text/plain": [
       "<Figure size 640x480 with 1 Axes>"
      ]
     },
     "metadata": {},
     "output_type": "display_data"
    }
   ],
   "source": [
    "plt.scatter(R_new,phi,s=5)\n",
    "plt.scatter(R_new,dphi,s=5)"
   ]
  },
  {
   "cell_type": "code",
   "execution_count": null,
   "metadata": {},
   "outputs": [],
   "source": []
  },
  {
   "cell_type": "code",
   "execution_count": 153,
   "metadata": {},
   "outputs": [
    {
     "data": {
      "text/plain": [
       "<matplotlib.collections.PathCollection at 0x15bea8820>"
      ]
     },
     "execution_count": 153,
     "metadata": {},
     "output_type": "execute_result"
    },
    {
     "data": {
      "image/png": "[encoded data removed]",
      "text/plain": [
       "<Figure size 640x480 with 1 Axes>"
      ]
     },
     "metadata": {},
     "output_type": "display_data"
    }
   ],
   "source": [
    "plt.scatter(R_new,alp,s=5)\n",
    "plt.scatter(R_new,psi,s=5)"
   ]
  },
  {
   "cell_type": "code",
   "execution_count": 154,
   "metadata": {},
   "outputs": [
    {
     "data": {
      "text/plain": [
       "0.5297253556248724"
      ]
     },
     "execution_count": 154,
     "metadata": {},
     "output_type": "execute_result"
    }
   ],
   "source": [
    "min(alp)"
   ]
  },
  {
   "cell_type": "code",
   "execution_count": 155,
   "metadata": {},
   "outputs": [
    {
     "data": {
      "text/plain": [
       "array([-7.18612417e-01, -7.18610894e-01, -7.18607845e-01, -7.18603266e-01,\n",
       "       -7.18597148e-01, -7.18589480e-01, -7.18580250e-01, -7.18569440e-01,\n",
       "       -7.18557032e-01, -7.18543004e-01, -7.18527331e-01, -7.18509985e-01,\n",
       "       -7.18490937e-01, -7.18470153e-01, -7.18447595e-01, -7.18423225e-01,\n",
       "       -7.18396999e-01, -7.18368870e-01, -7.18338788e-01, -7.18306698e-01,\n",
       "       -7.18272544e-01, -7.18236263e-01, -7.18197791e-01, -7.18157059e-01,\n",
       "       -7.18113992e-01, -7.18068513e-01, -7.18020539e-01, -7.17969982e-01,\n",
       "       -7.17916750e-01, -7.17860746e-01, -7.17801866e-01, -7.17740001e-01,\n",
       "       -7.17675038e-01, -7.17606856e-01, -7.17535326e-01, -7.17460317e-01,\n",
       "       -7.17381687e-01, -7.17299289e-01, -7.17212967e-01, -7.17122558e-01,\n",
       "       -7.17027891e-01, -7.16928786e-01, -7.16825054e-01, -7.16716496e-01,\n",
       "       -7.16602905e-01, -7.16484062e-01, -7.16359739e-01, -7.16229695e-01,\n",
       "       -7.16093680e-01, -7.15951428e-01, -7.15802664e-01, -7.15647098e-01,\n",
       "       -7.15484426e-01, -7.15314331e-01, -7.15136478e-01, -7.14950519e-01,\n",
       "       -7.14756090e-01, -7.14552806e-01, -7.14340268e-01, -7.14118056e-01,\n",
       "       -7.13885732e-01, -7.13642837e-01, -7.13388891e-01, -7.13123391e-01,\n",
       "       -7.12845812e-01, -7.12555606e-01, -7.12252197e-01, -7.11934986e-01,\n",
       "       -7.11603345e-01, -7.11256621e-01, -7.10894128e-01, -7.10515152e-01,\n",
       "       -7.10118947e-01, -7.09704734e-01, -7.09271700e-01, -7.08818999e-01,\n",
       "       -7.08345745e-01, -7.07851017e-01, -7.07333854e-01, -7.06793255e-01,\n",
       "       -7.06228177e-01, -7.05637533e-01, -7.05020193e-01, -7.04374981e-01,\n",
       "       -7.03700672e-01, -7.02995993e-01, -7.02259623e-01, -7.01490187e-01,\n",
       "       -7.00686258e-01, -6.99846355e-01, -6.98968940e-01, -6.98052422e-01,\n",
       "       -6.97095148e-01, -6.96095408e-01, -6.95051430e-01, -6.93961384e-01,\n",
       "       -6.92823374e-01, -6.91635443e-01, -6.90395570e-01, -6.89101670e-01,\n",
       "       -6.87751593e-01, -6.86343123e-01, -6.84873980e-01, -6.83341818e-01,\n",
       "       -6.81744226e-01, -6.80078731e-01, -6.78342792e-01, -6.76533809e-01,\n",
       "       -6.74649120e-01, -6.72686003e-01, -6.70641677e-01, -6.68513308e-01,\n",
       "       -6.66298007e-01, -6.63992836e-01, -6.61594812e-01, -6.59100907e-01,\n",
       "       -6.56508057e-01, -6.53813165e-01, -6.51013103e-01, -6.48104726e-01,\n",
       "       -6.45084870e-01, -6.41950363e-01, -6.38698032e-01, -6.35324713e-01,\n",
       "       -6.31827255e-01, -6.28202534e-01, -6.24447459e-01, -6.20558989e-01,\n",
       "       -6.16534134e-01, -6.12369977e-01, -6.08063679e-01, -6.03612496e-01,\n",
       "       -5.99013791e-01, -5.94265048e-01, -5.89363886e-01, -5.84308073e-01,\n",
       "       -5.79095545e-01, -5.73724417e-01, -5.68193001e-01, -5.62499823e-01,\n",
       "       -5.56643636e-01, -5.50623440e-01, -5.44438495e-01, -5.38088339e-01,\n",
       "       -5.31572801e-01, -5.24892021e-01, -5.18046462e-01, -5.11036922e-01,\n",
       "       -5.03864552e-01, -4.96530868e-01, -4.89037761e-01, -4.81387508e-01,\n",
       "       -4.73582783e-01, -4.65626663e-01, -4.57522639e-01, -4.49274616e-01,\n",
       "       -4.40886920e-01, -4.32364296e-01, -4.23711914e-01, -4.14935360e-01,\n",
       "       -4.06040637e-01, -3.97034155e-01, -3.87922724e-01, -3.78713544e-01,\n",
       "       -3.69414189e-01, -3.60032596e-01, -3.50577046e-01, -3.41056140e-01,\n",
       "       -3.31478786e-01, -3.21854168e-01, -3.12191722e-01, -3.02501111e-01,\n",
       "       -2.92792192e-01, -2.83074991e-01, -2.73359663e-01, -2.63656466e-01,\n",
       "       -2.53975723e-01, -2.44327785e-01, -2.34723001e-01, -2.25171678e-01,\n",
       "       -2.15684046e-01, -2.06270220e-01, -1.96940169e-01, -1.87703675e-01,\n",
       "       -1.78570305e-01, -1.69549373e-01, -1.60649911e-01, -1.51880637e-01,\n",
       "       -1.43249927e-01, -1.34765790e-01, -1.26435840e-01, -1.18267274e-01,\n",
       "       -1.10266855e-01, -1.02440891e-01, -9.47952191e-02, -8.73351953e-02,\n",
       "       -8.00656824e-02, -7.29910425e-02, -6.61151321e-02, -5.94412997e-02,\n",
       "       -5.29723853e-02, -4.67107231e-02, -4.06581462e-02, -3.48159936e-02,\n",
       "       -2.91851192e-02, -2.37659029e-02, -1.85582639e-02, -1.35616751e-02,\n",
       "       -8.77517924e-03, -4.19740704e-03,  1.73404405e-04,  4.33939154e-03,\n",
       "        8.30304356e-03,  1.20671809e-02,  1.56349331e-02,  1.90097166e-02,\n",
       "        2.21952116e-02,  2.51953396e-02,  2.80142406e-02,  3.06562502e-02,\n",
       "        3.31258779e-02,  3.54277845e-02,  3.75667611e-02,  3.95477081e-02,\n",
       "        4.13756151e-02,  4.30555416e-02,  4.45925982e-02,  4.59919288e-02,\n",
       "        4.72586938e-02,  4.83980540e-02,  4.94151559e-02,  5.03151171e-02,\n",
       "        5.11030137e-02,  5.17838680e-02,  5.23626375e-02,  5.28442045e-02,\n",
       "        5.32333670e-02,  5.35348309e-02,  5.37532017e-02,  5.38929793e-02,\n",
       "        5.39585515e-02,  5.39541893e-02,  5.38840437e-02,  5.37521413e-02,\n",
       "        5.35623827e-02,  5.33185397e-02,  5.30242543e-02,  5.26830372e-02,\n",
       "        5.22982673e-02,  5.18731907e-02,  5.14109214e-02,  5.09144492e-02,\n",
       "        5.03866337e-02,  4.98302077e-02,  4.92477789e-02,  4.86418327e-02,\n",
       "        4.80147348e-02,  4.73687333e-02,  4.67059621e-02,  4.60284435e-02,\n",
       "        4.53380915e-02,  4.46367151e-02,  4.39260213e-02,  4.32076188e-02,\n",
       "        4.24830209e-02,  4.17536493e-02,  4.10208376e-02,  4.02858342e-02,\n",
       "        3.95498062e-02,  3.88138425e-02,  3.80789569e-02,  3.73460920e-02,\n",
       "        3.66161219e-02,  3.58898553e-02,  3.51680390e-02,  3.44513605e-02,\n",
       "        3.37404511e-02,  3.30358887e-02,  3.23382008e-02,  3.16478665e-02,\n",
       "        3.09653199e-02,  3.02909521e-02,  2.96251137e-02,  2.89681172e-02,\n",
       "        2.83202391e-02,  2.76817220e-02,  2.70527770e-02,  2.64335853e-02,\n",
       "        2.58243000e-02,  2.52250484e-02,  2.46359331e-02,  2.40570343e-02,\n",
       "        2.34884104e-02,  2.29301007e-02,  2.23821258e-02,  2.18444892e-02,\n",
       "        2.13171791e-02,  2.08001687e-02,  2.02934181e-02,  1.97968750e-02,\n",
       "        1.93104758e-02,  1.88341466e-02,  1.83678039e-02,  1.79113558e-02,\n",
       "        1.74647025e-02,  1.70277372e-02,  1.66003468e-02,  1.61824126e-02,\n",
       "        1.57738107e-02,  1.53744130e-02,  1.49840872e-02,  1.46026978e-02,\n",
       "        1.42301064e-02,  1.38661721e-02,  1.35107520e-02,  1.31637013e-02,\n",
       "        1.28248741e-02,  1.24941237e-02,  1.21713022e-02,  1.18562619e-02,\n",
       "        1.15488546e-02,  1.12489324e-02,  1.09563476e-02,  1.06709533e-02,\n",
       "        1.03926029e-02,  1.01211512e-02,  9.85645381e-03,  9.59836753e-03,\n",
       "        9.34675059e-03,  9.10146261e-03,  8.86236481e-03,  8.62932002e-03,\n",
       "        8.40219283e-03,  8.18084963e-03,  7.96515868e-03,  7.75499018e-03,\n",
       "        7.55021629e-03,  7.35071120e-03,  7.15635116e-03,  6.96701449e-03,\n",
       "        6.78258163e-03,  6.60293514e-03,  6.42795970e-03,  6.25754217e-03,\n",
       "        6.09157153e-03,  5.92993893e-03,  5.77253766e-03,  5.61926313e-03,\n",
       "        5.47001293e-03,  5.32468672e-03,  5.18318629e-03,  5.04541551e-03,\n",
       "        4.91128033e-03,  4.78068874e-03,  4.65355075e-03,  4.52977838e-03,\n",
       "        4.40928563e-03,  4.29198845e-03,  4.17780471e-03,  4.06665419e-03,\n",
       "        3.95845851e-03,  3.85314116e-03,  3.75062741e-03,  3.65084433e-03,\n",
       "        3.55372072e-03,  3.45918711e-03,  3.36717570e-03,  3.27762035e-03,\n",
       "        3.19045654e-03,  3.10562135e-03,  3.02305340e-03,  2.94269285e-03,\n",
       "        2.86448134e-03,  2.78836199e-03,  2.71427935e-03,  2.64217937e-03,\n",
       "        2.57200938e-03,  2.50371803e-03,  2.43725531e-03,  2.37257247e-03,\n",
       "        2.30962204e-03,  2.24835774e-03,  2.18873452e-03,  2.13070849e-03,\n",
       "        2.07423688e-03,  2.01927807e-03,  1.96579151e-03,  1.91373770e-03,\n",
       "        1.86307821e-03,  1.81377558e-03,  1.76579337e-03,  1.71909609e-03,\n",
       "        1.67364919e-03,  1.62941903e-03,  1.58637288e-03,  1.54447885e-03,\n",
       "        1.50370593e-03,  1.46402391e-03,  1.42540341e-03,  1.38781583e-03,\n",
       "        1.35123331e-03,  1.31562878e-03,  1.28097585e-03,  1.24724886e-03,\n",
       "        1.21442286e-03,  1.18247353e-03,  1.15137723e-03,  1.12111096e-03,\n",
       "        1.09165232e-03,  1.06297953e-03,  1.03507139e-03,  1.00790728e-03,\n",
       "        9.81467125e-04,  9.55731410e-04,  9.30681135e-04,  9.06297817e-04,\n",
       "        8.82563475e-04,  8.59460614e-04,  8.36972213e-04,  8.15081714e-04,\n",
       "        7.93773005e-04,  7.73030414e-04,  7.52838691e-04,  7.33183004e-04,\n",
       "        7.14048919e-04,  6.95422397e-04,  6.77289780e-04,  6.59637778e-04,\n",
       "        6.42453465e-04,  6.25724265e-04,  6.09437943e-04,  5.93582598e-04,\n",
       "        5.78146649e-04,  5.63118833e-04,  5.48488190e-04,  5.34244061e-04,\n",
       "        5.20376073e-04,  5.06874138e-04,  4.93728438e-04,  4.80929425e-04,\n",
       "        4.68467809e-04,  4.56334552e-04,  4.44520861e-04,  4.33018183e-04,\n",
       "        4.21818195e-04,  4.10912801e-04,  4.00294124e-04,  3.89954503e-04,\n",
       "        3.79886480e-04,  3.70082803e-04,  3.60536415e-04,  3.51240451e-04,\n",
       "        3.42188231e-04,  3.33373256e-04,  3.24789204e-04,  3.16429922e-04,\n",
       "        3.08289425e-04,  3.00361889e-04,  2.92641650e-04,  2.85123192e-04,\n",
       "        2.77801154e-04,  2.70670314e-04,  2.63725596e-04,  2.56962058e-04,\n",
       "        2.50374892e-04,  2.43959420e-04,  2.37711090e-04,  2.31625473e-04,\n",
       "        2.25698257e-04,  2.19925251e-04,  2.14302372e-04,  2.08825648e-04,\n",
       "        2.03491217e-04,  1.98295316e-04,  1.93234288e-04,  1.88304569e-04,\n",
       "        1.83502695e-04,  1.78825294e-04,  1.74269083e-04,  1.69830868e-04,\n",
       "        1.65507541e-04,  1.61296077e-04,  1.57193532e-04,  1.53197040e-04,\n",
       "        1.49303813e-04,  1.45511136e-04,  1.41816369e-04,  1.38216941e-04,\n",
       "        1.34710349e-04,  1.31294159e-04,  1.27965999e-04,  1.24723563e-04,\n",
       "        1.21564605e-04,  1.18486939e-04,  1.15488438e-04,  1.12567032e-04,\n",
       "        1.09720704e-04,  1.06947492e-04,  1.04245486e-04,  1.01612828e-04,\n",
       "        9.90477046e-05,  9.65483426e-05,  9.41130270e-05,  9.17400908e-05,\n",
       "        8.94279106e-05,  8.71749062e-05,  8.49795390e-05,  8.28403110e-05,\n",
       "        8.07557637e-05,  7.87244772e-05,  7.67450689e-05,  7.48161928e-05,\n",
       "        7.29365381e-05,  7.11048289e-05,  6.93198225e-05,  6.75803093e-05,\n",
       "        6.58851112e-05,  6.42330812e-05,  6.26231026e-05,  6.10540878e-05,\n",
       "        5.95249780e-05,  5.80347420e-05,  5.65823758e-05,  5.51669018e-05,\n",
       "        5.37873678e-05,  5.24428469e-05,  5.11324362e-05,  4.98552566e-05,\n",
       "        4.86104520e-05,  4.73971888e-05,  4.62146550e-05,  4.50620601e-05,\n",
       "        4.39386340e-05,  4.28436269e-05,  4.17763085e-05,  4.07359678e-05,\n",
       "        3.97219120e-05,  3.87334666e-05,  3.77699747e-05,  3.68307964e-05,\n",
       "        3.59153086e-05,  3.50229044e-05,  3.41529926e-05,  3.33049975e-05,\n",
       "        3.24783584e-05,  3.16725291e-05,  3.08869775e-05,  3.01211857e-05,\n",
       "        2.93746487e-05,  2.86468752e-05,  2.79373861e-05,  2.72457151e-05,\n",
       "        2.65714079e-05,  2.59140219e-05,  2.52731261e-05,  2.46483003e-05,\n",
       "        2.40391357e-05,  2.34452338e-05,  2.28662063e-05,  2.23016750e-05,\n",
       "        2.17512718e-05,  2.12146375e-05,  2.06914228e-05,  2.01812869e-05,\n",
       "        1.96838981e-05,  1.91989332e-05,  1.87260772e-05,  1.82650233e-05,\n",
       "        1.78154725e-05,  1.73771338e-05,  1.69497234e-05,  1.65329648e-05,\n",
       "        1.61265887e-05,  1.57303326e-05,  1.53439410e-05,  1.49671648e-05,\n",
       "        1.45997611e-05,  1.42414935e-05,  1.38921315e-05,  1.35514507e-05,\n",
       "        1.32192322e-05,  1.28952629e-05,  1.25793350e-05,  1.22712461e-05,\n",
       "        1.19707990e-05,  1.16778014e-05,  1.13920662e-05,  1.11134107e-05,\n",
       "        1.08416571e-05,  1.05766321e-05,  1.03181668e-05,  1.00660966e-05,\n",
       "        9.82026105e-06,  9.58050391e-06,  9.34667281e-06,  9.11861928e-06,\n",
       "        8.89619864e-06,  8.67926987e-06,  8.46769555e-06,  8.26134173e-06,\n",
       "        8.06007789e-06,  7.86377679e-06,  7.67231444e-06,  7.48556999e-06,\n",
       "        7.30342564e-06,  7.12576658e-06,  6.95248092e-06,  6.78345959e-06,\n",
       "        6.61859627e-06,  6.45778735e-06,  6.30093183e-06,  6.14793126e-06,\n",
       "        5.99868968e-06,  5.85311355e-06,  5.71111168e-06,  5.57259521e-06,\n",
       "        5.43747750e-06,  5.30567410e-06,  5.17710267e-06,  5.05168297e-06,\n",
       "        4.92933676e-06,  4.80998780e-06,  4.69356172e-06,  4.57998606e-06,\n",
       "        4.46919017e-06,  4.36110516e-06,  4.25566390e-06,  4.15280091e-06,\n",
       "        4.05245238e-06,  3.95455610e-06,  3.85905141e-06,  3.76587916e-06,\n",
       "        3.67498171e-06,  3.58630284e-06,  3.49978775e-06,  3.41538300e-06,\n",
       "        3.33303652e-06,  3.25269749e-06,  3.17431640e-06,  3.09784497e-06,\n",
       "        3.02323611e-06,  2.95044393e-06,  2.87942366e-06,  2.81013168e-06,\n",
       "        2.74252541e-06,  2.67656338e-06,  2.61220513e-06,  2.54941122e-06,\n",
       "        2.48814316e-06,  2.42836347e-06,  2.37003556e-06,  2.31312377e-06,\n",
       "        2.25759332e-06,  2.20341030e-06,  2.15054164e-06,  2.09895509e-06,\n",
       "        2.04861921e-06,  1.99950333e-06,  1.95157755e-06,  1.90481270e-06,\n",
       "        1.85918034e-06,  1.81465273e-06,  1.77120284e-06,  1.72880428e-06,\n",
       "        1.68743133e-06,  1.64705891e-06,  1.60766254e-06,  1.56921837e-06,\n",
       "        1.53170313e-06,  1.49509412e-06,  1.45936922e-06,  1.42450682e-06,\n",
       "        1.39048588e-06,  1.35728587e-06,  1.32488676e-06,  1.29326901e-06,\n",
       "        1.26241358e-06,  1.23230189e-06,  1.20291581e-06,  1.17423767e-06,\n",
       "        1.14625022e-06,  1.11893666e-06,  1.09228057e-06,  1.06626597e-06,\n",
       "        1.04087725e-06,  1.01609918e-06,  9.91916930e-07,  9.68316009e-07,\n",
       "        9.45282293e-07,  9.22802006e-07,  9.00861708e-07,  8.79448290e-07,\n",
       "        8.58548964e-07,  8.38151256e-07,  8.18242999e-07,  7.98812322e-07,\n",
       "        7.79847649e-07,  7.61337685e-07,  7.43271411e-07,  7.25638080e-07,\n",
       "        7.08427208e-07,  6.91628566e-07,  6.75232178e-07,  6.59228309e-07,\n",
       "        6.43607465e-07,  6.28360383e-07,  6.13478025e-07,  5.98951576e-07,\n",
       "        5.84772436e-07,  5.70932214e-07,  5.57422726e-07,  5.44235985e-07,\n",
       "        5.31364201e-07,  5.18799773e-07,  5.06535287e-07,  4.94563508e-07,\n",
       "        4.82877377e-07,  4.71470010e-07,  4.60334687e-07,  4.49464855e-07,\n",
       "        4.38854118e-07,  4.28496238e-07,  4.18385126e-07,  4.08514844e-07,\n",
       "        3.98879597e-07,  3.89473731e-07,  3.80291729e-07,  3.71328209e-07,\n",
       "        3.62577920e-07,  3.54035738e-07,  3.45696663e-07,  3.37555817e-07,\n",
       "        3.29608441e-07,  3.21849889e-07,  3.14275631e-07,  3.06881244e-07,\n",
       "        2.99662415e-07,  2.92614934e-07,  2.85734692e-07,  2.79017681e-07,\n",
       "        2.72459990e-07,  2.66057803e-07,  2.59807394e-07,  2.53705131e-07,\n",
       "        2.47747467e-07,  2.41930942e-07,  2.36252179e-07,  2.30707883e-07,\n",
       "        2.25294839e-07,  2.20009909e-07,  2.14850030e-07,  2.09812216e-07,\n",
       "        2.04893551e-07,  2.00091188e-07,  1.95402351e-07,  1.90824331e-07,\n",
       "        1.86354482e-07,  1.81990225e-07,  1.77729041e-07,  1.73568472e-07,\n",
       "        1.69506119e-07,  1.65539642e-07,  1.61666756e-07,  1.57885232e-07,\n",
       "        1.54192895e-07,  1.50587620e-07,  1.47067336e-07,  1.43630019e-07,\n",
       "        1.40273697e-07,  1.36996442e-07,  1.33796376e-07,  1.30671661e-07,\n",
       "        1.27620509e-07,  1.24641170e-07,  1.21731939e-07,  1.18891152e-07,\n",
       "        1.16117182e-07,  1.13408444e-07,  1.10763391e-07,  1.08180510e-07,\n",
       "        1.05658327e-07,  1.03195404e-07,  1.00790334e-07,  9.84417473e-08,\n",
       "        9.61483051e-08,  9.39087009e-08,  9.17216597e-08,  8.95859369e-08,\n",
       "        8.75003176e-08,  8.54636162e-08,  8.34746750e-08,  8.15323645e-08,\n",
       "        7.96355817e-08,  7.77832503e-08,  7.59743196e-08,  7.42077638e-08,\n",
       "        7.24825818e-08,  7.07977964e-08,  6.91524535e-08,  6.75456221e-08,\n",
       "        6.59763930e-08,  6.44438789e-08,  6.29472136e-08,  6.14855516e-08,\n",
       "        6.00580675e-08,  5.86639555e-08,  5.73024289e-08,  5.59727200e-08,\n",
       "        5.46740792e-08,  5.34057747e-08,  5.21670920e-08,  5.09573340e-08,\n",
       "        4.97758197e-08,  4.86218845e-08,  4.74948797e-08,  4.63941717e-08,\n",
       "        4.53191422e-08,  4.42691875e-08,  4.32437182e-08,  4.22421589e-08,\n",
       "        4.12639479e-08,  4.03085368e-08,  3.93753900e-08,  3.84639850e-08,\n",
       "        3.75738113e-08,  3.67043706e-08,  3.58551766e-08,  3.50257542e-08,\n",
       "        3.42156398e-08,  3.34243807e-08,  3.26515347e-08,  3.18966705e-08,\n",
       "        3.11593666e-08,  3.04392116e-08,  2.97358038e-08,  2.90487511e-08,\n",
       "        2.83776705e-08,  2.77221882e-08,  2.70819391e-08,  2.64565669e-08,\n",
       "        2.58457233e-08,  2.52490688e-08,  2.46662714e-08,  2.40970072e-08,\n",
       "        2.35409599e-08,  2.29978205e-08,  2.24672876e-08,  2.19490665e-08,\n",
       "        2.14428698e-08,  2.09484166e-08,  2.04654328e-08,  1.99936506e-08,\n",
       "        1.95328086e-08,  1.90826516e-08,  1.86429302e-08,  1.82134011e-08,\n",
       "        1.77938265e-08,  1.73839744e-08,  1.69836181e-08,  1.65925362e-08,\n",
       "        1.62105127e-08,  1.58373365e-08,  1.54728014e-08,  1.51167063e-08,\n",
       "        1.47688545e-08,  1.44290541e-08,  1.40971178e-08,  1.37728624e-08,\n",
       "        1.34561092e-08,  1.31466837e-08,  1.28444153e-08,  1.25491376e-08,\n",
       "        1.22606881e-08,  1.19789079e-08,  1.17036421e-08,  1.14347391e-08,\n",
       "        1.11720510e-08,  1.09154336e-08,  1.06647457e-08,  1.04198495e-08,\n",
       "        1.01806106e-08,  9.94689756e-09,  9.71858206e-09,  9.49553880e-09,\n",
       "        9.27764539e-09,  9.06478230e-09,  8.85683278e-09,  8.65368284e-09,\n",
       "        8.45522111e-09,  8.26133884e-09,  8.07192982e-09,  7.88689031e-09,\n",
       "        7.70611898e-09,  7.52951689e-09,  7.35698738e-09,  7.18843606e-09,\n",
       "        7.02377072e-09,  6.86290133e-09,  6.70573992e-09,  6.55220060e-09,\n",
       "        6.40219947e-09,  6.25565458e-09,  6.11248588e-09,  5.97261519e-09,\n",
       "        5.83596617e-09,  5.70246423e-09,  5.57203652e-09,  5.44461189e-09,\n",
       "        5.32012085e-09,  5.19849550e-09,  5.07966955e-09,  4.96357824e-09,\n",
       "        4.85015831e-09,  4.73934797e-09,  4.63108687e-09,  4.52531606e-09,\n",
       "        4.42197796e-09,  4.32101633e-09,  4.22237623e-09,  4.12600400e-09,\n",
       "        4.03184723e-09,  3.93985471e-09,  3.84997643e-09,  3.76216355e-09,\n",
       "        3.67636834e-09,  3.59254421e-09,  3.51064561e-09,  3.43062807e-09,\n",
       "        3.35244817e-09,  3.27606345e-09,  3.20143247e-09,  3.12851474e-09,\n",
       "        3.05727070e-09,  2.98766174e-09,  2.91965009e-09,  2.85319891e-09,\n",
       "        2.78827218e-09,  2.72483473e-09,  2.66285218e-09,  2.60229099e-09,\n",
       "        2.54311835e-09,  2.48530224e-09,  2.42881137e-09,  2.37361519e-09,\n",
       "        2.31968383e-09,  2.26698812e-09,  2.21549959e-09,  2.16519040e-09,\n",
       "        2.11603337e-09,  2.06800193e-09,  2.02107015e-09,  1.97521268e-09,\n",
       "        1.93040477e-09,  1.88662223e-09,  1.84384145e-09,  1.80203934e-09,\n",
       "        1.76119335e-09,  1.72128148e-09,  1.68228220e-09,  1.64417450e-09,\n",
       "        1.60693785e-09,  1.57055220e-09,  1.53499794e-09,  1.50025596e-09,\n",
       "        1.46630754e-09,  1.43313442e-09,  1.40071877e-09,  1.36904315e-09,\n",
       "        1.33809053e-09,  1.30784429e-09,  1.27828817e-09,  1.24940631e-09,\n",
       "        1.22118318e-09,  1.19360366e-09,  1.16665292e-09,  1.14031653e-09,\n",
       "        1.11458036e-09,  1.08943061e-09,  1.06485380e-09,  1.04083676e-09,\n",
       "        1.01736665e-09,  9.94430875e-10,  9.72017178e-10,  9.50113563e-10,\n",
       "        9.28708315e-10,  9.07789990e-10,  8.87347406e-10,  8.67369644e-10,\n",
       "        8.47846031e-10,  8.28766146e-10,  8.10119805e-10,  7.91897061e-10,\n",
       "        7.74088194e-10,  7.56683712e-10,  7.39674339e-10,  7.23051015e-10,\n",
       "        7.06804887e-10,  6.90927310e-10,  6.75409834e-10,  6.60244208e-10])"
      ]
     },
     "execution_count": 155,
     "metadata": {},
     "output_type": "execute_result"
    }
   ],
   "source": [
    "phi**2*(1.0+0.5*g*phi**2+(1.0/3.0)*h*phi**4)"
   ]
  },
  {
   "cell_type": "code",
   "execution_count": 156,
   "metadata": {},
   "outputs": [
    {
     "data": {
      "text/plain": [
       "array([0., 0., 0., 0., 0., 0., 0., 0., 0., 0., 0., 0., 0., 0., 0., 0., 0.,\n",
       "       0., 0., 0., 0., 0., 0., 0., 0., 0., 0., 0., 0., 0., 0., 0., 0., 0.,\n",
       "       0., 0., 0., 0., 0., 0., 0., 0., 0., 0., 0., 0., 0., 0., 0., 0., 0.,\n",
       "       0., 0., 0., 0., 0., 0., 0., 0., 0., 0., 0., 0., 0., 0., 0., 0., 0.,\n",
       "       0., 0., 0., 0., 0., 0., 0., 0., 0., 0., 0., 0., 0., 0., 0., 0., 0.,\n",
       "       0., 0., 0., 0., 0., 0., 0., 0., 0., 0., 0., 0., 0., 0., 0., 0., 0.,\n",
       "       0., 0., 0., 0., 0., 0., 0., 0., 0., 0., 0., 0., 0., 0., 0., 0., 0.,\n",
       "       0., 0., 0., 0., 0., 0., 0., 0., 0., 0., 0., 0., 0., 0., 0., 0., 0.,\n",
       "       0., 0., 0., 0., 0., 0., 0., 0., 0., 0., 0., 0., 0., 0., 0., 0., 0.,\n",
       "       0., 0., 0., 0., 0., 0., 0., 0., 0., 0., 0., 0., 0., 0., 0., 0., 0.,\n",
       "       0., 0., 0., 0., 0., 0., 0., 0., 0., 0., 0., 0., 0., 0., 0., 0., 0.,\n",
       "       0., 0., 0., 0., 0., 0., 0., 0., 0., 0., 0., 0., 0., 0., 0., 0., 0.,\n",
       "       0., 0., 0., 0., 0., 0., 0., 0., 0., 0., 0., 0., 0., 0., 0., 0., 0.,\n",
       "       0., 0., 0., 0., 0., 0., 0., 0., 0., 0., 0., 0., 0., 0., 0., 0., 0.,\n",
       "       0., 0., 0., 0., 0., 0., 0., 0., 0., 0., 0., 0., 0., 0., 0., 0., 0.,\n",
       "       0., 0., 0., 0., 0., 0., 0., 0., 0., 0., 0., 0., 0., 0., 0., 0., 0.,\n",
       "       0., 0., 0., 0., 0., 0., 0., 0., 0., 0., 0., 0., 0., 0., 0., 0., 0.,\n",
       "       0., 0., 0., 0., 0., 0., 0., 0., 0., 0., 0., 0., 0., 0., 0., 0., 0.,\n",
       "       0., 0., 0., 0., 0., 0., 0., 0., 0., 0., 0., 0., 0., 0., 0., 0., 0.,\n",
       "       0., 0., 0., 0., 0., 0., 0., 0., 0., 0., 0., 0., 0., 0., 0., 0., 0.,\n",
       "       0., 0., 0., 0., 0., 0., 0., 0., 0., 0., 0., 0., 0., 0., 0., 0., 0.,\n",
       "       0., 0., 0., 0., 0., 0., 0., 0., 0., 0., 0., 0., 0., 0., 0., 0., 0.,\n",
       "       0., 0., 0., 0., 0., 0., 0., 0., 0., 0., 0., 0., 0., 0., 0., 0., 0.,\n",
       "       0., 0., 0., 0., 0., 0., 0., 0., 0., 0., 0., 0., 0., 0., 0., 0., 0.,\n",
       "       0., 0., 0., 0., 0., 0., 0., 0., 0., 0., 0., 0., 0., 0., 0., 0., 0.,\n",
       "       0., 0., 0., 0., 0., 0., 0., 0., 0., 0., 0., 0., 0., 0., 0., 0., 0.,\n",
       "       0., 0., 0., 0., 0., 0., 0., 0., 0., 0., 0., 0., 0., 0., 0., 0., 0.,\n",
       "       0., 0., 0., 0., 0., 0., 0., 0., 0., 0., 0., 0., 0., 0., 0., 0., 0.,\n",
       "       0., 0., 0., 0., 0., 0., 0., 0., 0., 0., 0., 0., 0., 0., 0., 0., 0.,\n",
       "       0., 0., 0., 0., 0., 0., 0., 0., 0., 0., 0., 0., 0., 0., 0., 0., 0.,\n",
       "       0., 0., 0., 0., 0., 0., 0., 0., 0., 0., 0., 0., 0., 0., 0., 0., 0.,\n",
       "       0., 0., 0., 0., 0., 0., 0., 0., 0., 0., 0., 0., 0., 0., 0., 0., 0.,\n",
       "       0., 0., 0., 0., 0., 0., 0., 0., 0., 0., 0., 0., 0., 0., 0., 0., 0.,\n",
       "       0., 0., 0., 0., 0., 0., 0., 0., 0., 0., 0., 0., 0., 0., 0., 0., 0.,\n",
       "       0., 0., 0., 0., 0., 0., 0., 0., 0., 0., 0., 0., 0., 0., 0., 0., 0.,\n",
       "       0., 0., 0., 0., 0., 0., 0., 0., 0., 0., 0., 0., 0., 0., 0., 0., 0.,\n",
       "       0., 0., 0., 0., 0., 0., 0., 0., 0., 0., 0., 0., 0., 0., 0., 0., 0.,\n",
       "       0., 0., 0., 0., 0., 0., 0., 0., 0., 0., 0., 0., 0., 0., 0., 0., 0.,\n",
       "       0., 0., 0., 0., 0., 0., 0., 0., 0., 0., 0., 0., 0., 0., 0., 0., 0.,\n",
       "       0., 0., 0., 0., 0., 0., 0., 0., 0., 0., 0., 0., 0., 0., 0., 0., 0.,\n",
       "       0., 0., 0., 0., 0., 0., 0., 0., 0., 0., 0., 0., 0., 0., 0., 0., 0.,\n",
       "       0., 0., 0., 0., 0., 0., 0., 0., 0., 0., 0., 0., 0., 0., 0., 0., 0.,\n",
       "       0., 0., 0., 0., 0., 0., 0., 0., 0., 0., 0., 0., 0., 0., 0., 0., 0.,\n",
       "       0., 0., 0., 0., 0., 0., 0., 0., 0., 0., 0., 0., 0., 0., 0., 0., 0.,\n",
       "       0., 0., 0., 0., 0., 0., 0., 0., 0., 0., 0., 0., 0., 0., 0., 0., 0.,\n",
       "       0., 0., 0., 0., 0., 0., 0., 0., 0., 0., 0., 0., 0., 0., 0., 0., 0.,\n",
       "       0., 0., 0., 0., 0., 0., 0., 0., 0., 0., 0., 0., 0., 0., 0., 0., 0.,\n",
       "       0., 0., 0., 0., 0., 0., 0., 0., 0., 0., 0., 0., 0., 0., 0., 0., 0.,\n",
       "       0., 0., 0., 0., 0., 0., 0., 0., 0., 0., 0., 0., 0., 0., 0., 0., 0.,\n",
       "       0., 0., 0., 0., 0., 0., 0., 0., 0., 0., 0., 0., 0., 0., 0., 0., 0.,\n",
       "       0., 0., 0., 0., 0., 0., 0., 0., 0., 0., 0., 0., 0., 0., 0., 0., 0.,\n",
       "       0., 0., 0., 0., 0., 0., 0., 0., 0., 0., 0., 0., 0., 0., 0., 0., 0.,\n",
       "       0., 0., 0., 0., 0., 0., 0., 0., 0., 0., 0., 0., 0., 0., 0., 0., 0.,\n",
       "       0., 0., 0., 0., 0., 0., 0., 0., 0., 0., 0., 0., 0., 0., 0., 0., 0.,\n",
       "       0., 0., 0., 0., 0., 0., 0., 0., 0., 0., 0., 0., 0., 0., 0., 0., 0.,\n",
       "       0., 0., 0., 0., 0., 0., 0., 0., 0., 0., 0., 0., 0., 0., 0., 0., 0.,\n",
       "       0., 0., 0., 0., 0., 0., 0., 0., 0., 0., 0., 0., 0., 0., 0., 0., 0.,\n",
       "       0., 0., 0., 0., 0., 0., 0., 0., 0., 0., 0., 0., 0., 0., 0., 0., 0.,\n",
       "       0., 0., 0., 0., 0., 0., 0., 0., 0., 0., 0., 0., 0., 0.])"
      ]
     },
     "execution_count": 156,
     "metadata": {},
     "output_type": "execute_result"
    }
   ],
   "source": [
    "omega**2*phi**2/N**2"
   ]
  },
  {
   "cell_type": "code",
   "execution_count": null,
   "metadata": {},
   "outputs": [],
   "source": []
  },
  {
   "cell_type": "markdown",
   "metadata": {},
   "source": [
    "## Calulations $\\rho$ and pressures as defined in https://arxiv.org/pdf/2302.07889"
   ]
  },
  {
   "cell_type": "code",
   "execution_count": 157,
   "metadata": {},
   "outputs": [],
   "source": [
    "rho = omega**2*phi**2/alp**2 + dphi**2/psi**4 + phi**2*(1.0+0.5*g*phi**2+(1.0/3.0)*h*phi**4)\n",
    "\n",
    "pr  = omega**2*phi**2/alp**2 + dphi**2/psi**4 - phi**2*(1.0+0.5*g*phi**2+(1.0/3.0)*h*phi**4)\n",
    "\n",
    "pT  = omega**2*phi**2/alp**2 - dphi**2/psi**4 - phi**2*(1.0+0.5*g*phi**2+(1.0/3.0)*h*phi**4)\n",
    "\n",
    "\n",
    "wr = pr/rho              # TWO POSSIBLE \"EQUATIONS OF STATE\"\n",
    "wT = pT/rho"
   ]
  },
  {
   "cell_type": "code",
   "execution_count": null,
   "metadata": {},
   "outputs": [],
   "source": []
  },
  {
   "cell_type": "code",
   "execution_count": 158,
   "metadata": {},
   "outputs": [
    {
     "data": {
      "text/plain": [
       "Text(0.5, 0, '$r$')"
      ]
     },
     "execution_count": 158,
     "metadata": {},
     "output_type": "execute_result"
    },
    {
     "data": {
      "image/png": "[encoded data removed]",
      "text/plain": [
       "<Figure size 640x480 with 1 Axes>"
      ]
     },
     "metadata": {},
     "output_type": "display_data"
    }
   ],
   "source": [
    "plt.plot(R_new, rho, label=r\"$\\rho = \\rho_\\varphi + \\rho_\\chi$\", color = \"purple\", linestyle = \"--\")\n",
    "plt.legend()\n",
    "plt.xlim(0,max(R_new)/2)\n",
    "#plt.ylim(0,)\n",
    "plt.xlabel(r\"$r$\")"
   ]
  },
  {
   "cell_type": "code",
   "execution_count": 124,
   "metadata": {},
   "outputs": [
    {
     "data": {
      "text/plain": [
       "-0.33728080000798244"
      ]
     },
     "execution_count": 124,
     "metadata": {},
     "output_type": "execute_result"
    }
   ],
   "source": [
    "min(rho)"
   ]
  },
  {
   "cell_type": "code",
   "execution_count": 12,
   "metadata": {},
   "outputs": [
    {
     "data": {
      "text/plain": [
       "(0.0, 4.999375)"
      ]
     },
     "execution_count": 12,
     "metadata": {},
     "output_type": "execute_result"
    },
    {
     "data": {
      "image/png": "[encoded data removed]",
      "text/plain": [
       "<Figure size 640x480 with 1 Axes>"
      ]
     },
     "metadata": {},
     "output_type": "display_data"
    }
   ],
   "source": [
    "plt.plot(R_new, rho, label=r\"$\\rho_\\varphi$\", color = \"k\")\n",
    "plt.plot(R_new, pr, label=r\"$p_r$\",    color = \"orange\")\n",
    "plt.plot(R_new, pT, label=r\"$p_T$\", color = \"purple\", linestyle = \"--\")\n",
    "plt.legend()\n",
    "plt.xlim(0,max(R_new)/8)"
   ]
  },
  {
   "cell_type": "code",
   "execution_count": 13,
   "metadata": {},
   "outputs": [
    {
     "data": {
      "text/plain": [
       "(-2.5, 2.5)"
      ]
     },
     "execution_count": 13,
     "metadata": {},
     "output_type": "execute_result"
    },
    {
     "data": {
      "image/png": "[encoded data removed]",
      "text/plain": [
       "<Figure size 640x480 with 1 Axes>"
      ]
     },
     "metadata": {},
     "output_type": "display_data"
    }
   ],
   "source": [
    "plt.scatter(R_new, wr, label=r\"$w_r$\",    color = \"orange\", s = 5)\n",
    "plt.scatter(R_new, wT, label=r\"$w_T$\", color = \"purple\", s = 5)\n",
    "plt.legend()\n",
    "plt.xlim(0,max(R_new)/8)\n",
    "plt.ylim(-2.5,2.5)"
   ]
  },
  {
   "cell_type": "code",
   "execution_count": null,
   "metadata": {},
   "outputs": [],
   "source": []
  },
  {
   "cell_type": "code",
   "execution_count": null,
   "metadata": {},
   "outputs": [],
   "source": []
  },
  {
   "cell_type": "markdown",
   "metadata": {},
   "source": [
    "if you need to safe your files and use them elsewere edit and run the following"
   ]
  },
  {
   "cell_type": "code",
   "execution_count": 14,
   "metadata": {},
   "outputs": [],
   "source": [
    "MATRIX=np.zeros((len(R_new),8))\n",
    "MATRIX[:,0]=phi\n",
    "MATRIX[:,1]=chi\n",
    "MATRIX[:,2]=alp\n",
    "MATRIX[:,3]=psi\n",
    "MATRIX[:,4]=dphi\n",
    "MATRIX[:,5]=dchi\n",
    "MATRIX[:,6]=dalp\n",
    "MATRIX[:,7]=dpsi"
   ]
  },
  {
   "cell_type": "code",
   "execution_count": 15,
   "metadata": {},
   "outputs": [],
   "source": [
    "#np.savetxt(\"idata_spectral.dat\",MATRIX)"
   ]
  },
  {
   "cell_type": "code",
   "execution_count": null,
   "metadata": {},
   "outputs": [],
   "source": []
  },
  {
   "cell_type": "code",
   "execution_count": null,
   "metadata": {},
   "outputs": [],
   "source": []
  }
 ],
 "metadata": {
  "kernelspec": {
   "display_name": "Python 3 (ipykernel)",
   "language": "python",
   "name": "python3"
  },
  "language_info": {
   "codemirror_mode": {
    "name": "ipython",
    "version": 3
   },
   "file_extension": ".py",
   "mimetype": "text/x-python",
   "name": "python",
   "nbconvert_exporter": "python",
   "pygments_lexer": "ipython3",
   "version": "3.10.9"
  }
 },
 "nbformat": 4,
 "nbformat_minor": 4
}
